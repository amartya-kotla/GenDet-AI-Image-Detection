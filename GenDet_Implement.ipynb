{
  "cells": [
    {
      "cell_type": "markdown",
      "metadata": {
        "id": "vLCzKlUkbaiw"
      },
      "source": [
        "# CLIP\n",
        "\n",
        "This section is a basic tutorial to use CLIP to generate the embeddings for your image dataset. "
      ]
    },
    {
      "cell_type": "code",
      "execution_count": null,
      "metadata": {
        "colab": {
          "base_uri": "https://localhost:8080/"
        },
        "id": "ZDScCx77XcUD",
        "outputId": "1800d91f-191f-452f-ddb7-1a9de6efca4c"
      },
      "outputs": [
        {
          "name": "stdout",
          "output_type": "stream",
          "text": [
            "Collecting ftfy\n",
            "  Downloading ftfy-6.3.1-py3-none-any.whl.metadata (7.3 kB)\n",
            "Requirement already satisfied: regex in /usr/local/lib/python3.11/dist-packages (2024.11.6)\n",
            "Requirement already satisfied: tqdm in /usr/local/lib/python3.11/dist-packages (4.67.1)\n",
            "Requirement already satisfied: wcwidth in /usr/local/lib/python3.11/dist-packages (from ftfy) (0.2.13)\n",
            "Downloading ftfy-6.3.1-py3-none-any.whl (44 kB)\n",
            "\u001b[2K   \u001b[90m━━━━━━━━━━━━━━━━━━━━━━━━━━━━━━━━━━━━━━━━\u001b[0m \u001b[32m44.8/44.8 kB\u001b[0m \u001b[31m851.9 kB/s\u001b[0m eta \u001b[36m0:00:00\u001b[0m\n",
            "\u001b[?25hInstalling collected packages: ftfy\n",
            "Successfully installed ftfy-6.3.1\n",
            "Collecting git+https://github.com/openai/CLIP.git\n",
            "  Cloning https://github.com/openai/CLIP.git to /tmp/pip-req-build-wbed_ccb\n",
            "  Running command git clone --filter=blob:none --quiet https://github.com/openai/CLIP.git /tmp/pip-req-build-wbed_ccb\n",
            "  Resolved https://github.com/openai/CLIP.git to commit dcba3cb2e2827b402d2701e7e1c7d9fed8a20ef1\n",
            "  Preparing metadata (setup.py) ... \u001b[?25l\u001b[?25hdone\n",
            "Requirement already satisfied: ftfy in /usr/local/lib/python3.11/dist-packages (from clip==1.0) (6.3.1)\n",
            "Requirement already satisfied: packaging in /usr/local/lib/python3.11/dist-packages (from clip==1.0) (24.2)\n",
            "Requirement already satisfied: regex in /usr/local/lib/python3.11/dist-packages (from clip==1.0) (2024.11.6)\n",
            "Requirement already satisfied: tqdm in /usr/local/lib/python3.11/dist-packages (from clip==1.0) (4.67.1)\n",
            "Requirement already satisfied: torch in /usr/local/lib/python3.11/dist-packages (from clip==1.0) (2.5.1+cu124)\n",
            "Requirement already satisfied: torchvision in /usr/local/lib/python3.11/dist-packages (from clip==1.0) (0.20.1+cu124)\n",
            "Requirement already satisfied: wcwidth in /usr/local/lib/python3.11/dist-packages (from ftfy->clip==1.0) (0.2.13)\n",
            "Requirement already satisfied: filelock in /usr/local/lib/python3.11/dist-packages (from torch->clip==1.0) (3.17.0)\n",
            "Requirement already satisfied: typing-extensions>=4.8.0 in /usr/local/lib/python3.11/dist-packages (from torch->clip==1.0) (4.12.2)\n",
            "Requirement already satisfied: networkx in /usr/local/lib/python3.11/dist-packages (from torch->clip==1.0) (3.4.2)\n",
            "Requirement already satisfied: jinja2 in /usr/local/lib/python3.11/dist-packages (from torch->clip==1.0) (3.1.5)\n",
            "Requirement already satisfied: fsspec in /usr/local/lib/python3.11/dist-packages (from torch->clip==1.0) (2024.10.0)\n",
            "Collecting nvidia-cuda-nvrtc-cu12==12.4.127 (from torch->clip==1.0)\n",
            "  Downloading nvidia_cuda_nvrtc_cu12-12.4.127-py3-none-manylinux2014_x86_64.whl.metadata (1.5 kB)\n",
            "Collecting nvidia-cuda-runtime-cu12==12.4.127 (from torch->clip==1.0)\n",
            "  Downloading nvidia_cuda_runtime_cu12-12.4.127-py3-none-manylinux2014_x86_64.whl.metadata (1.5 kB)\n",
            "Collecting nvidia-cuda-cupti-cu12==12.4.127 (from torch->clip==1.0)\n",
            "  Downloading nvidia_cuda_cupti_cu12-12.4.127-py3-none-manylinux2014_x86_64.whl.metadata (1.6 kB)\n",
            "Collecting nvidia-cudnn-cu12==9.1.0.70 (from torch->clip==1.0)\n",
            "  Downloading nvidia_cudnn_cu12-9.1.0.70-py3-none-manylinux2014_x86_64.whl.metadata (1.6 kB)\n",
            "Collecting nvidia-cublas-cu12==12.4.5.8 (from torch->clip==1.0)\n",
            "  Downloading nvidia_cublas_cu12-12.4.5.8-py3-none-manylinux2014_x86_64.whl.metadata (1.5 kB)\n",
            "Collecting nvidia-cufft-cu12==11.2.1.3 (from torch->clip==1.0)\n",
            "  Downloading nvidia_cufft_cu12-11.2.1.3-py3-none-manylinux2014_x86_64.whl.metadata (1.5 kB)\n",
            "Collecting nvidia-curand-cu12==10.3.5.147 (from torch->clip==1.0)\n",
            "  Downloading nvidia_curand_cu12-10.3.5.147-py3-none-manylinux2014_x86_64.whl.metadata (1.5 kB)\n",
            "Collecting nvidia-cusolver-cu12==11.6.1.9 (from torch->clip==1.0)\n",
            "  Downloading nvidia_cusolver_cu12-11.6.1.9-py3-none-manylinux2014_x86_64.whl.metadata (1.6 kB)\n",
            "Collecting nvidia-cusparse-cu12==12.3.1.170 (from torch->clip==1.0)\n",
            "  Downloading nvidia_cusparse_cu12-12.3.1.170-py3-none-manylinux2014_x86_64.whl.metadata (1.6 kB)\n",
            "Requirement already satisfied: nvidia-nccl-cu12==2.21.5 in /usr/local/lib/python3.11/dist-packages (from torch->clip==1.0) (2.21.5)\n",
            "Requirement already satisfied: nvidia-nvtx-cu12==12.4.127 in /usr/local/lib/python3.11/dist-packages (from torch->clip==1.0) (12.4.127)\n",
            "Collecting nvidia-nvjitlink-cu12==12.4.127 (from torch->clip==1.0)\n",
            "  Downloading nvidia_nvjitlink_cu12-12.4.127-py3-none-manylinux2014_x86_64.whl.metadata (1.5 kB)\n",
            "Requirement already satisfied: triton==3.1.0 in /usr/local/lib/python3.11/dist-packages (from torch->clip==1.0) (3.1.0)\n",
            "Requirement already satisfied: sympy==1.13.1 in /usr/local/lib/python3.11/dist-packages (from torch->clip==1.0) (1.13.1)\n",
            "Requirement already satisfied: mpmath<1.4,>=1.1.0 in /usr/local/lib/python3.11/dist-packages (from sympy==1.13.1->torch->clip==1.0) (1.3.0)\n",
            "Requirement already satisfied: numpy in /usr/local/lib/python3.11/dist-packages (from torchvision->clip==1.0) (1.26.4)\n",
            "Requirement already satisfied: pillow!=8.3.*,>=5.3.0 in /usr/local/lib/python3.11/dist-packages (from torchvision->clip==1.0) (11.1.0)\n",
            "Requirement already satisfied: MarkupSafe>=2.0 in /usr/local/lib/python3.11/dist-packages (from jinja2->torch->clip==1.0) (3.0.2)\n",
            "Downloading nvidia_cublas_cu12-12.4.5.8-py3-none-manylinux2014_x86_64.whl (363.4 MB)\n",
            "\u001b[2K   \u001b[90m━━━━━━━━━━━━━━━━━━━━━━━━━━━━━━━━━━━━━━━━\u001b[0m \u001b[32m363.4/363.4 MB\u001b[0m \u001b[31m4.4 MB/s\u001b[0m eta \u001b[36m0:00:00\u001b[0m\n",
            "\u001b[?25hDownloading nvidia_cuda_cupti_cu12-12.4.127-py3-none-manylinux2014_x86_64.whl (13.8 MB)\n",
            "\u001b[2K   \u001b[90m━━━━━━━━━━━━━━━━━━━━━━━━━━━━━━━━━━━━━━━━\u001b[0m \u001b[32m13.8/13.8 MB\u001b[0m \u001b[31m68.5 MB/s\u001b[0m eta \u001b[36m0:00:00\u001b[0m\n",
            "\u001b[?25hDownloading nvidia_cuda_nvrtc_cu12-12.4.127-py3-none-manylinux2014_x86_64.whl (24.6 MB)\n",
            "\u001b[2K   \u001b[90m━━━━━━━━━━━━━━━━━━━━━━━━━━━━━━━━━━━━━━━━\u001b[0m \u001b[32m24.6/24.6 MB\u001b[0m \u001b[31m70.2 MB/s\u001b[0m eta \u001b[36m0:00:00\u001b[0m\n",
            "\u001b[?25hDownloading nvidia_cuda_runtime_cu12-12.4.127-py3-none-manylinux2014_x86_64.whl (883 kB)\n",
            "\u001b[2K   \u001b[90m━━━━━━━━━━━━━━━━━━━━━━━━━━━━━━━━━━━━━━━━\u001b[0m \u001b[32m883.7/883.7 kB\u001b[0m \u001b[31m32.3 MB/s\u001b[0m eta \u001b[36m0:00:00\u001b[0m\n",
            "\u001b[?25hDownloading nvidia_cudnn_cu12-9.1.0.70-py3-none-manylinux2014_x86_64.whl (664.8 MB)\n",
            "\u001b[2K   \u001b[90m━━━━━━━━━━━━━━━━━━━━━━━━━━━━━━━━━━━━━━━━\u001b[0m \u001b[32m664.8/664.8 MB\u001b[0m \u001b[31m2.5 MB/s\u001b[0m eta \u001b[36m0:00:00\u001b[0m\n",
            "\u001b[?25hDownloading nvidia_cufft_cu12-11.2.1.3-py3-none-manylinux2014_x86_64.whl (211.5 MB)\n",
            "\u001b[2K   \u001b[90m━━━━━━━━━━━━━━━━━━━━━━━━━━━━━━━━━━━━━━━━\u001b[0m \u001b[32m211.5/211.5 MB\u001b[0m \u001b[31m5.3 MB/s\u001b[0m eta \u001b[36m0:00:00\u001b[0m\n",
            "\u001b[?25hDownloading nvidia_curand_cu12-10.3.5.147-py3-none-manylinux2014_x86_64.whl (56.3 MB)\n",
            "\u001b[2K   \u001b[90m━━━━━━━━━━━━━━━━━━━━━━━━━━━━━━━━━━━━━━━━\u001b[0m \u001b[32m56.3/56.3 MB\u001b[0m \u001b[31m12.1 MB/s\u001b[0m eta \u001b[36m0:00:00\u001b[0m\n",
            "\u001b[?25hDownloading nvidia_cusolver_cu12-11.6.1.9-py3-none-manylinux2014_x86_64.whl (127.9 MB)\n",
            "\u001b[2K   \u001b[90m━━━━━━━━━━━━━━━━━━━━━━━━━━━━━━━━━━━━━━━━\u001b[0m \u001b[32m127.9/127.9 MB\u001b[0m \u001b[31m8.9 MB/s\u001b[0m eta \u001b[36m0:00:00\u001b[0m\n",
            "\u001b[?25hDownloading nvidia_cusparse_cu12-12.3.1.170-py3-none-manylinux2014_x86_64.whl (207.5 MB)\n",
            "\u001b[2K   \u001b[90m━━━━━━━━━━━━━━━━━━━━━━━━━━━━━━━━━━━━━━━━\u001b[0m \u001b[32m207.5/207.5 MB\u001b[0m \u001b[31m5.6 MB/s\u001b[0m eta \u001b[36m0:00:00\u001b[0m\n",
            "\u001b[?25hDownloading nvidia_nvjitlink_cu12-12.4.127-py3-none-manylinux2014_x86_64.whl (21.1 MB)\n",
            "\u001b[2K   \u001b[90m━━━━━━━━━━━━━━━━━━━━━━━━━━━━━━━━━━━━━━━━\u001b[0m \u001b[32m21.1/21.1 MB\u001b[0m \u001b[31m51.4 MB/s\u001b[0m eta \u001b[36m0:00:00\u001b[0m\n",
            "\u001b[?25hBuilding wheels for collected packages: clip\n",
            "  Building wheel for clip (setup.py) ... \u001b[?25l\u001b[?25hdone\n",
            "  Created wheel for clip: filename=clip-1.0-py3-none-any.whl size=1369489 sha256=f44fd46dae7675f9c98cf88489201cb3e12353442100355cd23b737ec898c7a6\n",
            "  Stored in directory: /tmp/pip-ephem-wheel-cache-5ulhcymt/wheels/3f/7c/a4/9b490845988bf7a4db33674d52f709f088f64392063872eb9a\n",
            "Successfully built clip\n",
            "Installing collected packages: nvidia-nvjitlink-cu12, nvidia-curand-cu12, nvidia-cufft-cu12, nvidia-cuda-runtime-cu12, nvidia-cuda-nvrtc-cu12, nvidia-cuda-cupti-cu12, nvidia-cublas-cu12, nvidia-cusparse-cu12, nvidia-cudnn-cu12, nvidia-cusolver-cu12, clip\n",
            "  Attempting uninstall: nvidia-nvjitlink-cu12\n",
            "    Found existing installation: nvidia-nvjitlink-cu12 12.5.82\n",
            "    Uninstalling nvidia-nvjitlink-cu12-12.5.82:\n",
            "      Successfully uninstalled nvidia-nvjitlink-cu12-12.5.82\n",
            "  Attempting uninstall: nvidia-curand-cu12\n",
            "    Found existing installation: nvidia-curand-cu12 10.3.6.82\n",
            "    Uninstalling nvidia-curand-cu12-10.3.6.82:\n",
            "      Successfully uninstalled nvidia-curand-cu12-10.3.6.82\n",
            "  Attempting uninstall: nvidia-cufft-cu12\n",
            "    Found existing installation: nvidia-cufft-cu12 11.2.3.61\n",
            "    Uninstalling nvidia-cufft-cu12-11.2.3.61:\n",
            "      Successfully uninstalled nvidia-cufft-cu12-11.2.3.61\n",
            "  Attempting uninstall: nvidia-cuda-runtime-cu12\n",
            "    Found existing installation: nvidia-cuda-runtime-cu12 12.5.82\n",
            "    Uninstalling nvidia-cuda-runtime-cu12-12.5.82:\n",
            "      Successfully uninstalled nvidia-cuda-runtime-cu12-12.5.82\n",
            "  Attempting uninstall: nvidia-cuda-nvrtc-cu12\n",
            "    Found existing installation: nvidia-cuda-nvrtc-cu12 12.5.82\n",
            "    Uninstalling nvidia-cuda-nvrtc-cu12-12.5.82:\n",
            "      Successfully uninstalled nvidia-cuda-nvrtc-cu12-12.5.82\n",
            "  Attempting uninstall: nvidia-cuda-cupti-cu12\n",
            "    Found existing installation: nvidia-cuda-cupti-cu12 12.5.82\n",
            "    Uninstalling nvidia-cuda-cupti-cu12-12.5.82:\n",
            "      Successfully uninstalled nvidia-cuda-cupti-cu12-12.5.82\n",
            "  Attempting uninstall: nvidia-cublas-cu12\n",
            "    Found existing installation: nvidia-cublas-cu12 12.5.3.2\n",
            "    Uninstalling nvidia-cublas-cu12-12.5.3.2:\n",
            "      Successfully uninstalled nvidia-cublas-cu12-12.5.3.2\n",
            "  Attempting uninstall: nvidia-cusparse-cu12\n",
            "    Found existing installation: nvidia-cusparse-cu12 12.5.1.3\n",
            "    Uninstalling nvidia-cusparse-cu12-12.5.1.3:\n",
            "      Successfully uninstalled nvidia-cusparse-cu12-12.5.1.3\n",
            "  Attempting uninstall: nvidia-cudnn-cu12\n",
            "    Found existing installation: nvidia-cudnn-cu12 9.3.0.75\n",
            "    Uninstalling nvidia-cudnn-cu12-9.3.0.75:\n",
            "      Successfully uninstalled nvidia-cudnn-cu12-9.3.0.75\n",
            "  Attempting uninstall: nvidia-cusolver-cu12\n",
            "    Found existing installation: nvidia-cusolver-cu12 11.6.3.83\n",
            "    Uninstalling nvidia-cusolver-cu12-11.6.3.83:\n",
            "      Successfully uninstalled nvidia-cusolver-cu12-11.6.3.83\n",
            "Successfully installed clip-1.0 nvidia-cublas-cu12-12.4.5.8 nvidia-cuda-cupti-cu12-12.4.127 nvidia-cuda-nvrtc-cu12-12.4.127 nvidia-cuda-runtime-cu12-12.4.127 nvidia-cudnn-cu12-9.1.0.70 nvidia-cufft-cu12-11.2.1.3 nvidia-curand-cu12-10.3.5.147 nvidia-cusolver-cu12-11.6.1.9 nvidia-cusparse-cu12-12.3.1.170 nvidia-nvjitlink-cu12-12.4.127\n"
          ]
        }
      ],
      "source": [
        "! pip install ftfy regex tqdm\n",
        "! pip install git+https://github.com/openai/CLIP.git"
      ]
    },
    {
      "cell_type": "code",
      "execution_count": null,
      "metadata": {
        "colab": {
          "base_uri": "https://localhost:8080/"
        },
        "collapsed": true,
        "id": "tNuF0fjTiwoe",
        "outputId": "4c6f8f02-e98b-4fe0-e812-7db0e0e0e076"
      },
      "outputs": [
        {
          "name": "stdout",
          "output_type": "stream",
          "text": [
            "Collecting torchviz\n",
            "  Downloading torchviz-0.0.3-py3-none-any.whl.metadata (2.1 kB)\n",
            "Requirement already satisfied: torch in /usr/local/lib/python3.11/dist-packages (from torchviz) (2.5.1+cu124)\n",
            "Requirement already satisfied: graphviz in /usr/local/lib/python3.11/dist-packages (from torchviz) (0.20.3)\n",
            "Requirement already satisfied: filelock in /usr/local/lib/python3.11/dist-packages (from torch->torchviz) (3.17.0)\n",
            "Requirement already satisfied: typing-extensions>=4.8.0 in /usr/local/lib/python3.11/dist-packages (from torch->torchviz) (4.12.2)\n",
            "Requirement already satisfied: networkx in /usr/local/lib/python3.11/dist-packages (from torch->torchviz) (3.4.2)\n",
            "Requirement already satisfied: jinja2 in /usr/local/lib/python3.11/dist-packages (from torch->torchviz) (3.1.5)\n",
            "Requirement already satisfied: fsspec in /usr/local/lib/python3.11/dist-packages (from torch->torchviz) (2024.10.0)\n",
            "Collecting nvidia-cuda-nvrtc-cu12==12.4.127 (from torch->torchviz)\n",
            "  Downloading nvidia_cuda_nvrtc_cu12-12.4.127-py3-none-manylinux2014_x86_64.whl.metadata (1.5 kB)\n",
            "Collecting nvidia-cuda-runtime-cu12==12.4.127 (from torch->torchviz)\n",
            "  Downloading nvidia_cuda_runtime_cu12-12.4.127-py3-none-manylinux2014_x86_64.whl.metadata (1.5 kB)\n",
            "Collecting nvidia-cuda-cupti-cu12==12.4.127 (from torch->torchviz)\n",
            "  Downloading nvidia_cuda_cupti_cu12-12.4.127-py3-none-manylinux2014_x86_64.whl.metadata (1.6 kB)\n",
            "Collecting nvidia-cudnn-cu12==9.1.0.70 (from torch->torchviz)\n",
            "  Downloading nvidia_cudnn_cu12-9.1.0.70-py3-none-manylinux2014_x86_64.whl.metadata (1.6 kB)\n",
            "Collecting nvidia-cublas-cu12==12.4.5.8 (from torch->torchviz)\n",
            "  Downloading nvidia_cublas_cu12-12.4.5.8-py3-none-manylinux2014_x86_64.whl.metadata (1.5 kB)\n",
            "Collecting nvidia-cufft-cu12==11.2.1.3 (from torch->torchviz)\n",
            "  Downloading nvidia_cufft_cu12-11.2.1.3-py3-none-manylinux2014_x86_64.whl.metadata (1.5 kB)\n",
            "Collecting nvidia-curand-cu12==10.3.5.147 (from torch->torchviz)\n",
            "  Downloading nvidia_curand_cu12-10.3.5.147-py3-none-manylinux2014_x86_64.whl.metadata (1.5 kB)\n",
            "Collecting nvidia-cusolver-cu12==11.6.1.9 (from torch->torchviz)\n",
            "  Downloading nvidia_cusolver_cu12-11.6.1.9-py3-none-manylinux2014_x86_64.whl.metadata (1.6 kB)\n",
            "Collecting nvidia-cusparse-cu12==12.3.1.170 (from torch->torchviz)\n",
            "  Downloading nvidia_cusparse_cu12-12.3.1.170-py3-none-manylinux2014_x86_64.whl.metadata (1.6 kB)\n",
            "Requirement already satisfied: nvidia-nccl-cu12==2.21.5 in /usr/local/lib/python3.11/dist-packages (from torch->torchviz) (2.21.5)\n",
            "Requirement already satisfied: nvidia-nvtx-cu12==12.4.127 in /usr/local/lib/python3.11/dist-packages (from torch->torchviz) (12.4.127)\n",
            "Collecting nvidia-nvjitlink-cu12==12.4.127 (from torch->torchviz)\n",
            "  Downloading nvidia_nvjitlink_cu12-12.4.127-py3-none-manylinux2014_x86_64.whl.metadata (1.5 kB)\n",
            "Requirement already satisfied: triton==3.1.0 in /usr/local/lib/python3.11/dist-packages (from torch->torchviz) (3.1.0)\n",
            "Requirement already satisfied: sympy==1.13.1 in /usr/local/lib/python3.11/dist-packages (from torch->torchviz) (1.13.1)\n",
            "Requirement already satisfied: mpmath<1.4,>=1.1.0 in /usr/local/lib/python3.11/dist-packages (from sympy==1.13.1->torch->torchviz) (1.3.0)\n",
            "Requirement already satisfied: MarkupSafe>=2.0 in /usr/local/lib/python3.11/dist-packages (from jinja2->torch->torchviz) (3.0.2)\n",
            "Downloading torchviz-0.0.3-py3-none-any.whl (5.7 kB)\n",
            "Downloading nvidia_cublas_cu12-12.4.5.8-py3-none-manylinux2014_x86_64.whl (363.4 MB)\n",
            "\u001b[2K   \u001b[90m━━━━━━━━━━━━━━━━━━━━━━━━━━━━━━━━━━━━━━━━\u001b[0m \u001b[32m363.4/363.4 MB\u001b[0m \u001b[31m4.1 MB/s\u001b[0m eta \u001b[36m0:00:00\u001b[0m\n",
            "\u001b[?25hDownloading nvidia_cuda_cupti_cu12-12.4.127-py3-none-manylinux2014_x86_64.whl (13.8 MB)\n",
            "\u001b[2K   \u001b[90m━━━━━━━━━━━━━━━━━━━━━━━━━━━━━━━━━━━━━━━━\u001b[0m \u001b[32m13.8/13.8 MB\u001b[0m \u001b[31m69.6 MB/s\u001b[0m eta \u001b[36m0:00:00\u001b[0m\n",
            "\u001b[?25hDownloading nvidia_cuda_nvrtc_cu12-12.4.127-py3-none-manylinux2014_x86_64.whl (24.6 MB)\n",
            "\u001b[2K   \u001b[90m━━━━━━━━━━━━━━━━━━━━━━━━━━━━━━━━━━━━━━━━\u001b[0m \u001b[32m24.6/24.6 MB\u001b[0m \u001b[31m54.1 MB/s\u001b[0m eta \u001b[36m0:00:00\u001b[0m\n",
            "\u001b[?25hDownloading nvidia_cuda_runtime_cu12-12.4.127-py3-none-manylinux2014_x86_64.whl (883 kB)\n",
            "\u001b[2K   \u001b[90m━━━━━━━━━━━━━━━━━━━━━━━━━━━━━━━━━━━━━━━━\u001b[0m \u001b[32m883.7/883.7 kB\u001b[0m \u001b[31m38.3 MB/s\u001b[0m eta \u001b[36m0:00:00\u001b[0m\n",
            "\u001b[?25hDownloading nvidia_cudnn_cu12-9.1.0.70-py3-none-manylinux2014_x86_64.whl (664.8 MB)\n",
            "\u001b[2K   \u001b[90m━━━━━━━━━━━━━━━━━━━━━━━━━━━━━━━━━━━━━━━━\u001b[0m \u001b[32m664.8/664.8 MB\u001b[0m \u001b[31m1.5 MB/s\u001b[0m eta \u001b[36m0:00:00\u001b[0m\n",
            "\u001b[?25hDownloading nvidia_cufft_cu12-11.2.1.3-py3-none-manylinux2014_x86_64.whl (211.5 MB)\n",
            "\u001b[2K   \u001b[90m━━━━━━━━━━━━━━━━━━━━━━━━━━━━━━━━━━━━━━━━\u001b[0m \u001b[32m211.5/211.5 MB\u001b[0m \u001b[31m6.5 MB/s\u001b[0m eta \u001b[36m0:00:00\u001b[0m\n",
            "\u001b[?25hDownloading nvidia_curand_cu12-10.3.5.147-py3-none-manylinux2014_x86_64.whl (56.3 MB)\n",
            "\u001b[2K   \u001b[90m━━━━━━━━━━━━━━━━━━━━━━━━━━━━━━━━━━━━━━━━\u001b[0m \u001b[32m56.3/56.3 MB\u001b[0m \u001b[31m13.5 MB/s\u001b[0m eta \u001b[36m0:00:00\u001b[0m\n",
            "\u001b[?25hDownloading nvidia_cusolver_cu12-11.6.1.9-py3-none-manylinux2014_x86_64.whl (127.9 MB)\n",
            "\u001b[2K   \u001b[90m━━━━━━━━━━━━━━━━━━━━━━━━━━━━━━━━━━━━━━━━\u001b[0m \u001b[32m127.9/127.9 MB\u001b[0m \u001b[31m3.5 MB/s\u001b[0m eta \u001b[36m0:00:00\u001b[0m\n",
            "\u001b[?25hDownloading nvidia_cusparse_cu12-12.3.1.170-py3-none-manylinux2014_x86_64.whl (207.5 MB)\n",
            "\u001b[2K   \u001b[90m━━━━━━━━━━━━━━━━━━━━━━━━━━━━━━━━━━━━━━━━\u001b[0m \u001b[32m207.5/207.5 MB\u001b[0m \u001b[31m5.8 MB/s\u001b[0m eta \u001b[36m0:00:00\u001b[0m\n",
            "\u001b[?25hDownloading nvidia_nvjitlink_cu12-12.4.127-py3-none-manylinux2014_x86_64.whl (21.1 MB)\n",
            "\u001b[2K   \u001b[90m━━━━━━━━━━━━━━━━━━━━━━━━━━━━━━━━━━━━━━━━\u001b[0m \u001b[32m21.1/21.1 MB\u001b[0m \u001b[31m79.7 MB/s\u001b[0m eta \u001b[36m0:00:00\u001b[0m\n",
            "\u001b[?25hInstalling collected packages: nvidia-nvjitlink-cu12, nvidia-curand-cu12, nvidia-cufft-cu12, nvidia-cuda-runtime-cu12, nvidia-cuda-nvrtc-cu12, nvidia-cuda-cupti-cu12, nvidia-cublas-cu12, nvidia-cusparse-cu12, nvidia-cudnn-cu12, nvidia-cusolver-cu12, torchviz\n",
            "  Attempting uninstall: nvidia-nvjitlink-cu12\n",
            "    Found existing installation: nvidia-nvjitlink-cu12 12.5.82\n",
            "    Uninstalling nvidia-nvjitlink-cu12-12.5.82:\n",
            "      Successfully uninstalled nvidia-nvjitlink-cu12-12.5.82\n",
            "  Attempting uninstall: nvidia-curand-cu12\n",
            "    Found existing installation: nvidia-curand-cu12 10.3.6.82\n",
            "    Uninstalling nvidia-curand-cu12-10.3.6.82:\n",
            "      Successfully uninstalled nvidia-curand-cu12-10.3.6.82\n",
            "  Attempting uninstall: nvidia-cufft-cu12\n",
            "    Found existing installation: nvidia-cufft-cu12 11.2.3.61\n",
            "    Uninstalling nvidia-cufft-cu12-11.2.3.61:\n",
            "      Successfully uninstalled nvidia-cufft-cu12-11.2.3.61\n",
            "  Attempting uninstall: nvidia-cuda-runtime-cu12\n",
            "    Found existing installation: nvidia-cuda-runtime-cu12 12.5.82\n",
            "    Uninstalling nvidia-cuda-runtime-cu12-12.5.82:\n",
            "      Successfully uninstalled nvidia-cuda-runtime-cu12-12.5.82\n",
            "  Attempting uninstall: nvidia-cuda-nvrtc-cu12\n",
            "    Found existing installation: nvidia-cuda-nvrtc-cu12 12.5.82\n",
            "    Uninstalling nvidia-cuda-nvrtc-cu12-12.5.82:\n",
            "      Successfully uninstalled nvidia-cuda-nvrtc-cu12-12.5.82\n",
            "  Attempting uninstall: nvidia-cuda-cupti-cu12\n",
            "    Found existing installation: nvidia-cuda-cupti-cu12 12.5.82\n",
            "    Uninstalling nvidia-cuda-cupti-cu12-12.5.82:\n",
            "      Successfully uninstalled nvidia-cuda-cupti-cu12-12.5.82\n",
            "  Attempting uninstall: nvidia-cublas-cu12\n",
            "    Found existing installation: nvidia-cublas-cu12 12.5.3.2\n",
            "    Uninstalling nvidia-cublas-cu12-12.5.3.2:\n",
            "      Successfully uninstalled nvidia-cublas-cu12-12.5.3.2\n",
            "  Attempting uninstall: nvidia-cusparse-cu12\n",
            "    Found existing installation: nvidia-cusparse-cu12 12.5.1.3\n",
            "    Uninstalling nvidia-cusparse-cu12-12.5.1.3:\n",
            "      Successfully uninstalled nvidia-cusparse-cu12-12.5.1.3\n",
            "  Attempting uninstall: nvidia-cudnn-cu12\n",
            "    Found existing installation: nvidia-cudnn-cu12 9.3.0.75\n",
            "    Uninstalling nvidia-cudnn-cu12-9.3.0.75:\n",
            "      Successfully uninstalled nvidia-cudnn-cu12-9.3.0.75\n",
            "  Attempting uninstall: nvidia-cusolver-cu12\n",
            "    Found existing installation: nvidia-cusolver-cu12 11.6.3.83\n",
            "    Uninstalling nvidia-cusolver-cu12-11.6.3.83:\n",
            "      Successfully uninstalled nvidia-cusolver-cu12-11.6.3.83\n",
            "Successfully installed nvidia-cublas-cu12-12.4.5.8 nvidia-cuda-cupti-cu12-12.4.127 nvidia-cuda-nvrtc-cu12-12.4.127 nvidia-cuda-runtime-cu12-12.4.127 nvidia-cudnn-cu12-9.1.0.70 nvidia-cufft-cu12-11.2.1.3 nvidia-curand-cu12-10.3.5.147 nvidia-cusolver-cu12-11.6.1.9 nvidia-cusparse-cu12-12.3.1.170 nvidia-nvjitlink-cu12-12.4.127 torchviz-0.0.3\n"
          ]
        }
      ],
      "source": [
        "! pip install torchviz"
      ]
    },
    {
      "cell_type": "code",
      "execution_count": null,
      "metadata": {
        "id": "BCelMrTYXqMK"
      },
      "outputs": [],
      "source": [
        "import clip"
      ]
    },
    {
      "cell_type": "code",
      "execution_count": null,
      "metadata": {
        "colab": {
          "base_uri": "https://localhost:8080/",
          "height": 176
        },
        "id": "swkEMvhxYATj",
        "outputId": "d4e66eb7-7cdd-40bb-8e5f-6876ae41e98c"
      },
      "outputs": [
        {
          "name": "stderr",
          "output_type": "stream",
          "text": [
            "100%|███████████████████████████████████████| 338M/338M [00:40<00:00, 8.70MiB/s]\n"
          ]
        },
        {
          "ename": "NameError",
          "evalue": "name 'np' is not defined",
          "output_type": "error",
          "traceback": [
            "\u001b[0;31m---------------------------------------------------------------------------\u001b[0m",
            "\u001b[0;31mNameError\u001b[0m                                 Traceback (most recent call last)",
            "\u001b[0;32m<ipython-input-3-3ae9990e74e9>\u001b[0m in \u001b[0;36m<cell line: 0>\u001b[0;34m()\u001b[0m\n\u001b[1;32m      1\u001b[0m \u001b[0mmodel\u001b[0m\u001b[0;34m,\u001b[0m \u001b[0mpreprocess\u001b[0m \u001b[0;34m=\u001b[0m \u001b[0mclip\u001b[0m\u001b[0;34m.\u001b[0m\u001b[0mload\u001b[0m\u001b[0;34m(\u001b[0m\u001b[0;34m'ViT-B/32'\u001b[0m\u001b[0;34m)\u001b[0m\u001b[0;34m\u001b[0m\u001b[0;34m\u001b[0m\u001b[0m\n\u001b[0;32m----> 2\u001b[0;31m \u001b[0mprint\u001b[0m\u001b[0;34m(\u001b[0m\u001b[0;34m\"Model parameters:\"\u001b[0m\u001b[0;34m,\u001b[0m \u001b[0;34mf\"{np.sum([int(np.prod(p.shape)) for p in model.parameters()]):,}\"\u001b[0m\u001b[0;34m)\u001b[0m\u001b[0;34m\u001b[0m\u001b[0;34m\u001b[0m\u001b[0m\n\u001b[0m",
            "\u001b[0;31mNameError\u001b[0m: name 'np' is not defined"
          ]
        }
      ],
      "source": [
        "model, preprocess = clip.load('ViT-B/32')\n",
        "print(\"Model parameters:\", f\"{np.sum([int(np.prod(p.shape)) for p in model.parameters()]):,}\")"
      ]
    },
    {
      "cell_type": "code",
      "execution_count": null,
      "metadata": {
        "id": "P9aPj-C5tY8s"
      },
      "outputs": [],
      "source": [
        "preprocess"
      ]
    },
    {
      "cell_type": "code",
      "execution_count": null,
      "metadata": {
        "colab": {
          "base_uri": "https://localhost:8080/"
        },
        "id": "VS9jzA4jYdV5",
        "outputId": "9bd71394-dcbc-46f1-c7da-179595f56daa"
      },
      "outputs": [
        {
          "name": "stdout",
          "output_type": "stream",
          "text": [
            "Model parameters: 151,277,313\n"
          ]
        }
      ],
      "source": [
        "print(\"Model parameters:\", f\"{np.sum([int(np.prod(p.shape)) for p in model.parameters()]):,}\")"
      ]
    },
    {
      "cell_type": "code",
      "execution_count": null,
      "metadata": {
        "colab": {
          "base_uri": "https://localhost:8080/"
        },
        "id": "oKZeG3AwrXc6",
        "outputId": "35783549-5feb-42a1-e65a-fea3b201683f"
      },
      "outputs": [
        {
          "name": "stdout",
          "output_type": "stream",
          "text": [
            "torch.Size([1, 3, 224, 224])\n",
            "torch.Size([1, 512])\n",
            "torch.float32\n"
          ]
        }
      ],
      "source": [
        "from PIL import Image\n",
        "\n",
        "device = torch.device(\"cuda\" if torch.cuda.is_available() else \"cpu\")\n",
        "\n",
        "# img = Image.open(\"/content/drive/MyDrive/AmartyaPassportpic.jpg\")\n",
        "image_tensor = preprocess(Image.open(\"/content/drive/MyDrive/yourPic.jpg\")).unsqueeze(0).to(device)\n",
        "print(image_tensor.shape)\n",
        "image_embed = model.encode_image(image_tensor)\n",
        "print(image_embed.shape)\n",
        "print(image_embed.dtype)"
      ]
    },
    {
      "cell_type": "markdown",
      "metadata": {},
      "source": [
        "\n",
        "You can now use the above code and walk through your dataset directory and generate the embeddings.\n",
        "It is a time consuming process, and will require significant gpu usage, so you can run this part on Kaggle. Once done, save the embeddings to .pt files that you can use later.\n"
      ]
    },
    {
      "cell_type": "markdown",
      "metadata": {
        "id": "VOMIkzfmyNQ5"
      },
      "source": [
        "# ESSENTIALS\n",
        "\n",
        "These are the building blocks of the modules used in the research paper, including the components for a transformer encoder block, the self attention, the custom loss functions defined in the paper. "
      ]
    },
    {
      "cell_type": "code",
      "execution_count": null,
      "metadata": {
        "id": "V62kW4X_yQ__"
      },
      "outputs": [],
      "source": [
        "import numpy as np\n",
        "import torch\n",
        "import torch.nn as nn\n",
        "import math"
      ]
    },
    {
      "cell_type": "code",
      "execution_count": null,
      "metadata": {
        "colab": {
          "base_uri": "https://localhost:8080/"
        },
        "id": "E50hEkJZyUph",
        "outputId": "f66b51aa-5528-4888-f600-f2e4627470f9"
      },
      "outputs": [
        {
          "data": {
            "text/plain": [
              "device(type='cuda')"
            ]
          },
          "execution_count": 164,
          "metadata": {},
          "output_type": "execute_result"
        }
      ],
      "source": [
        "device = torch.device(\"cuda\" if torch.cuda.is_available() else \"cpu\")\n",
        "device"
      ]
    },
    {
      "cell_type": "code",
      "execution_count": null,
      "metadata": {
        "id": "5c9j67URyYAx"
      },
      "outputs": [],
      "source": [
        "# Function to generate positional encodings for transformer\n",
        "\n",
        "def gen_pe(max_length, d_model, n=10000):\n",
        "\n",
        "  # generate an empty matrix for the positional encodings (pe)\n",
        "  pe = np.zeros(max_length*d_model, dtype=np.float32).reshape(max_length, d_model)\n",
        "\n",
        "  # for each position\n",
        "  for k in np.arange(max_length):\n",
        "\n",
        "    # for each dimension\n",
        "    for i in np.arange(d_model//2):\n",
        "\n",
        "      # calculate the internal value for sin and cos\n",
        "      theta = k / (n ** ((2*i)/d_model))\n",
        "\n",
        "      # even dims: sin\n",
        "      pe[k, 2*i] = math.sin(theta)\n",
        "\n",
        "      # odd dims: cos\n",
        "      pe[k, 2*i+1] = math.cos(theta)\n",
        "\n",
        "  pe = torch.tensor(pe)\n",
        "\n",
        "  return pe.view(1, max_length, d_model)\n",
        "\n",
        "pe = gen_pe(4, 196)\n",
        "pe = pe.to(device)\n",
        "# print(pe.shape)"
      ]
    },
    {
      "cell_type": "code",
      "execution_count": null,
      "metadata": {
        "id": "-wCWVhpnybht"
      },
      "outputs": [],
      "source": [
        "# This class is used to transform the embeddings to 196 dimensional embeddings used in the transformer blocks defined in the research paper.\n",
        "# Sequence length is not given, so we use that as a hyperparameter seq_length. Reshaping the input vector such that it can be divided into a seq_length * 196 matrix\n",
        "\n",
        "\n",
        "class initial_data_transform(nn.Module):\n",
        "\n",
        "  def __init__(self, embed_dim, CLIP_embed_dim, seq_length):\n",
        "\n",
        "    super(initial_data_transform, self).__init__()\n",
        "\n",
        "    self.data_transform_weights = nn.Linear(CLIP_embed_dim, seq_length * embed_dim)\n",
        "    # self.batch_size = batch_size\n",
        "    self.seq_length = seq_length\n",
        "    self.embed_dim = embed_dim\n",
        "    self.CLIP_embed_dim = CLIP_embed_dim\n",
        "\n",
        "\n",
        "  def forward(self, data):\n",
        "\n",
        "    data = self.data_transform_weights(data)\n",
        "    # print(data.shape)\n",
        "    data = data.view(data.size(0), self.seq_length, self.embed_dim)\n",
        "    return data"
      ]
    },
    {
      "cell_type": "code",
      "execution_count": null,
      "metadata": {
        "id": "RIuLLnwmyhjJ"
      },
      "outputs": [],
      "source": [
        "\n",
        "class MultiHeadAttention(nn.Module):\n",
        "\n",
        "  def __init__(self, n_heads, embed_dim, seq_length) :\n",
        "\n",
        "    super(MultiHeadAttention, self).__init__()\n",
        "\n",
        "    self.n_heads = n_heads\n",
        "    self.embed_dim = embed_dim\n",
        "    # self.batch_size = batch_size\n",
        "    self.seq_length = seq_length\n",
        "    self.single_head_dim = embed_dim // n_heads\n",
        "\n",
        "    # self.data_transform_weights = nn.Linear(CLIP_embed_dim, seq_length * embed_dim)\n",
        "\n",
        "\n",
        "    # Generating the query, key and value vectors\n",
        "    self.query_weights = nn.Linear(embed_dim, embed_dim)\n",
        "    self.key_weights = nn.Linear(embed_dim, embed_dim)\n",
        "    self.value_weights = nn.Linear(embed_dim, embed_dim)\n",
        "    self.output_weights = nn.Linear(embed_dim, embed_dim)\n",
        "\n",
        "\n",
        "  def generateMultiHeadQVK(self, data) :\n",
        "\n",
        "    # print(data.dtype)\n",
        "    Q = self.query_weights(data)\n",
        "    # print(Q.shape)\n",
        "    K = self.key_weights(data)\n",
        "    V = self.value_weights(data)\n",
        "\n",
        "  # Reshaping them such that we divide the Q,V,K vectors into unique Q,V,Ks for each attention head. \n",
        "\n",
        "    Q = Q.view(data.size(0), self.seq_length, self.n_heads, self.single_head_dim).transpose(1,2)\n",
        "    V = V.view(data.size(0), self.seq_length, self.n_heads, self.single_head_dim).transpose(1,2)\n",
        "    K = K.view(data.size(0), self.seq_length, self.n_heads, self.single_head_dim).transpose(1,2)\n",
        "\n",
        "\n",
        "    return Q,V,K\n",
        "\n",
        "\n",
        "\n",
        "  def generateAttentionScores(self, Q, K):\n",
        "\n",
        "    K = K.transpose(2,3)\n",
        "    # print(K.shape)\n",
        "    attention_matrix = torch.matmul(Q, K / math.sqrt(self.single_head_dim))\n",
        "    # print(attention_matrix.shape)\n",
        "    attention_scores = torch.softmax(attention_matrix, dim = -1)\n",
        "\n",
        "    return attention_scores\n",
        "\n",
        "\n",
        "  # Using the attention scores and calculating the new context rich vectors.\n",
        "  def getContextualizedVectors(self, attention_scores, V):\n",
        "\n",
        "    contextualized_vectors = torch.matmul(attention_scores, V)\n",
        "    batch_size = contextualized_vectors.size(0)\n",
        "    # print(contextualized_vectors.shape)\n",
        "    contextualized_vectors = contextualized_vectors.transpose(1,2).contiguous().view(batch_size, self.seq_length, self.embed_dim)\n",
        "    # print(contextualized_vectors.shape)\n",
        "    return contextualized_vectors\n",
        "\n",
        "\n",
        "  # The forward propagation pipeline in the attention mechanism\n",
        "  def forward(self, data):\n",
        "\n",
        "    # data = self.initial_data_transform(data)\n",
        "    upd_data = data + pe\n",
        "    # print(upd_data.shape)\n",
        "    Q, V, K = self.generateMultiHeadQVK(upd_data)\n",
        "    attention_scores = self.generateAttentionScores(Q, K)\n",
        "    contextualized_vectors = self.getContextualizedVectors(attention_scores, V)\n",
        "    multihead_output = self.output_weights(contextualized_vectors)\n",
        "    return multihead_output, data\n"
      ]
    },
    {
      "cell_type": "code",
      "execution_count": null,
      "metadata": {
        "id": "-m33Ttq4yk5R"
      },
      "outputs": [],
      "source": [
        "# The feed forward linear network after attention mechanism\n",
        "\n",
        "class Positionwise_Feed_Forward(nn.Module):\n",
        "   def __init__(self, embed_dim, ff_dim) :\n",
        "      super(Positionwise_Feed_Forward, self).__init__()\n",
        "\n",
        "      self.fc_layer1 = nn.Linear(embed_dim, ff_dim)\n",
        "      self.Relu = nn.ReLU()\n",
        "      self.fc_layer2 = nn.Linear(ff_dim, embed_dim)\n",
        "\n",
        "   def forward(self, multihead_output) :\n",
        "\n",
        "      fc1_output = self.fc_layer1(multihead_output)\n",
        "      # print(fc1_output.shape)\n",
        "      activation = self.Relu(fc1_output)\n",
        "      fc2_output = self.fc_layer2(activation)\n",
        "\n",
        "      return fc2_output"
      ]
    },
    {
      "cell_type": "code",
      "execution_count": null,
      "metadata": {
        "id": "hibc1sHmypP4"
      },
      "outputs": [],
      "source": [
        "# Adding the dropout and layer normalization in the end of the transformer block and constructing the transformer pipeline\n",
        "\n",
        "class GenDetTransformerBlock(nn.Module):\n",
        "\n",
        "   def __init__(self, seq_length, ff_dim = 4*196, embed_dim = 196, n_heads = 4,) :\n",
        "\n",
        "    super(GenDetTransformerBlock, self).__init__()\n",
        "\n",
        "\n",
        "    # self.MultiHeadAttention = MultiHeadAttention(n_heads = n_heads, batch_size = batch_size, embed_dim = embed_dim, seq_length = seq_length)\n",
        "    self.MultiHeadAttention = MultiHeadAttention(n_heads = n_heads, embed_dim = embed_dim, seq_length = seq_length)\n",
        "    self.Positionwise_Feed_Forward = Positionwise_Feed_Forward(embed_dim = embed_dim, ff_dim = ff_dim)\n",
        "    self.Norm1 = nn.LayerNorm(embed_dim)\n",
        "    self.Norm2 = nn.LayerNorm(embed_dim)\n",
        "    self.dropout = nn.Dropout(0.2)\n",
        "\n",
        "   def forward(self, data):\n",
        "      multihead_output, data = self.MultiHeadAttention(data)\n",
        "      add_norm1_output = (data + self.Norm1(self.dropout(multihead_output)))\n",
        "      ff_output = self.Positionwise_Feed_Forward(add_norm1_output)\n",
        "      final_add_norm2_output = (data + self.Norm2(self.dropout(ff_output)))\n",
        "      return final_add_norm2_output"
      ]
    },
    {
      "cell_type": "markdown",
      "metadata": {},
      "source": [
        "# Loss Functions\n",
        "\n",
        "These are the custom loss functions defined in the research paper for various stages of the training and testing process."
      ]
    },
    {
      "cell_type": "code",
      "execution_count": null,
      "metadata": {
        "id": "0e0VLDReyyDq"
      },
      "outputs": [],
      "source": [
        "from torch import linalg as LA\n",
        "\n",
        "class TeacherStudent_loss_fake(nn.Module):\n",
        "\n",
        "  def __init__(self):\n",
        "\n",
        "    super(TeacherStudent_loss_fake, self).__init__()\n",
        "\n",
        "    self.reg_M = 0.5\n",
        "\n",
        "  def forward(self, y_t, y_s):\n",
        "      y_t_Norm = LA.norm(y_t, dim=1, keepdim=True)\n",
        "      # print(y_t_Norm.shape)\n",
        "      Y_t = y_t / y_t_Norm\n",
        "      # print(Y_t.shape)\n",
        "\n",
        "\n",
        "      y_s_Norm = LA.norm(y_s, dim=1, keepdim=True)\n",
        "      # print(y_s_Norm.shape)\n",
        "      Y_s = y_s / y_s_Norm\n",
        "      # print(Y_s.shape)\n",
        "\n",
        "      discrep = (Y_t- Y_s).pow(2).sum(dim=1)\n",
        "      losses = torch.clamp(self.reg_M - discrep, min=0)\n",
        "      # print(losses.shape, losses)\n",
        "      batch_loss = losses.mean()\n",
        "      return batch_loss\n",
        "      # return torch.max(t)\n",
        "\n",
        "\n"
      ]
    },
    {
      "cell_type": "code",
      "execution_count": null,
      "metadata": {
        "id": "9kwoetZrzoez"
      },
      "outputs": [],
      "source": [
        "class mse_loss_new(nn.Module):\n",
        "    # Sums over non-batch dimensions, then averages over the batch dimension.\n",
        "    def __init__(self):\n",
        "      super(mse_loss_new, self).__init__()\n",
        "\n",
        "    def forward(self, z_t, z_s):\n",
        "      # losses = (z_t - z_s).pow(2).mean(dim=list(range(1, z_t.ndim)))\n",
        "      diff = (z_t - z_s).pow(2)\n",
        "      # print(diff)\n",
        "      # print(torch.min(diff), torch.max(diff))\n",
        "      losses = diff.mean(dim=list(range(1, z_t.ndim)))\n",
        "      # print(losses)\n",
        "      return losses.mean()\n",
        "\n",
        "mse_new = mse_loss_new()\n",
        "# loss = mse_new(arr1, arr2)\n",
        "# print(loss)\n",
        "# loss.backward()"
      ]
    },
    {
      "cell_type": "code",
      "execution_count": null,
      "metadata": {
        "id": "iUzb4sbeRJNr"
      },
      "outputs": [],
      "source": [
        "class mse_loss_new_withoutBatchAverage(nn.Module):\n",
        "\n",
        "    def __init__(self):\n",
        "      super(mse_loss_new_withoutBatchAverage, self).__init__()\n",
        "\n",
        "    def forward(self, z_t, z_s):\n",
        "      # losses = (z_t - z_s).pow(2).mean(dim=list(range(1, z_t.ndim)))\n",
        "      diff = (z_t - z_s).pow(2)\n",
        "      # print(diff)\n",
        "      # print(torch.min(diff), torch.max(diff))\n",
        "      losses = diff.mean(dim=list(range(1, z_t.ndim))).view(diff.size(0), 1)\n",
        "      # print(losses)\n",
        "      return losses"
      ]
    },
    {
      "cell_type": "markdown",
      "metadata": {},
      "source": [
        "# Putting the GenDet Model together"
      ]
    },
    {
      "cell_type": "code",
      "execution_count": null,
      "metadata": {
        "id": "n1CEJBBAzvJ3"
      },
      "outputs": [],
      "source": [
        "# Adding the teacher, student and augmenter modules seperately, and a sigmoid layer to get the outputs.\n",
        "\n",
        "class GenDetComplete(nn.Module):\n",
        "\n",
        "  def __init__(self, embed_dim, seq_length, CLIP_embed_dim, n_heads, ff_dim):\n",
        "\n",
        "    super(GenDetComplete, self).__init__()\n",
        "\n",
        "    self.initial_data_transform = initial_data_transform(embed_dim, CLIP_embed_dim, seq_length)\n",
        "    self.Teacher = GenDetTransformerBlock(seq_length, ff_dim, embed_dim, n_heads)\n",
        "    self.Student = GenDetTransformerBlock(seq_length, ff_dim, embed_dim, n_heads)\n",
        "    self.Augmenter = GenDetTransformerBlock(seq_length, ff_dim, embed_dim, n_heads)\n",
        "    self.fc_teacher = nn.Linear(seq_length * embed_dim, 1)\n",
        "    # self.fc_student = nn.Linear(seq_length * embed_dim, 1)\n",
        "    self.sigmoid_teacher = nn.Sigmoid()\n",
        "    self.sigmoid_student = nn.Sigmoid()\n",
        "    # self.batch_size = batch_size\n",
        "    # self.fc_final = nn.Linear(1,1)\n",
        "    # self.sigmoid_final = nn.Sigmoid()\n",
        "    # self.MSELoss = nn.MSELoss()\n",
        "\n",
        "\n",
        "\n",
        "  def forward(self, data, mode):\n",
        "\n",
        "    data = self.initial_data_transform(data)\n",
        "    batch_size = data.size(0)\n",
        "\n",
        "    # if mode == \"GenDet\":\n",
        "    #   data = self.Augmenter(data)\n",
        "\n",
        "\n",
        "  # Added conditions to ignore the student and gendet blocks during the teacher stage of training\n",
        "\n",
        "    if mode == \"Inference\":\n",
        "      stu_out = self.Student(data)\n",
        "      stu_out = stu_out.contiguous().view(batch_size, 784)\n",
        "\n",
        "    elif mode != \"Teacher\":\n",
        "\n",
        "      data = self.Augmenter(data)\n",
        "\n",
        "      stu_out = self.Student(data)\n",
        "      stu_out = stu_out.contiguous().view(batch_size, 784)\n",
        "\n",
        "\n",
        "    teach_out = self.Teacher(data)\n",
        "    teach_out = teach_out.contiguous().view(batch_size, 784)\n",
        "    teach_out_final = self.fc_teacher(teach_out)\n",
        "    # print(teach_out_final.shape)\n",
        "    teach_out_final = self.sigmoid_teacher(teach_out_final)\n",
        "\n",
        "    if mode != \"Teacher\":\n",
        "      return teach_out, stu_out\n",
        "\n",
        "\n",
        "    return teach_out_final\n"
      ]
    },
    {
      "cell_type": "code",
      "execution_count": null,
      "metadata": {
        "id": "xiXi4PKaz07m"
      },
      "outputs": [],
      "source": [
        "# The Binary Classifier used for testing with the loss function as the input to the neural network. \n",
        "\n",
        "class Binary_Classifier(nn.Module):\n",
        "\n",
        "  def __init__(self):\n",
        "\n",
        "    super(Binary_Classifier,self).__init__()\n",
        "\n",
        "    self.MSELoss = nn.MSELoss()\n",
        "    self.fc_final = nn.Linear(1,1)\n",
        "    self.sigmoid_final = nn.Sigmoid()\n",
        "\n",
        "  def forward(self, teach_out, stu_out):\n",
        "\n",
        "    loss = self.MSELoss(teach_out, stu_out).view(1,1)\n",
        "    print(loss)\n",
        "    p_out = self.fc_final(loss)\n",
        "    out = self.sigmoid_final(p_out)\n",
        "\n",
        "    return out"
      ]
    },
    {
      "cell_type": "markdown",
      "metadata": {
        "id": "z_aPhDHRcGrf"
      },
      "source": [
        "# Remove parameter settings out of model and put in training loop"
      ]
    },
    {
      "cell_type": "code",
      "execution_count": null,
      "metadata": {
        "id": "ugkOiQ4Dnict"
      },
      "outputs": [],
      "source": [
        "#mse loss calculated in which dimension, with or without mean? also BATCH_SIZE FOR LOSSES"
      ]
    },
    {
      "cell_type": "markdown",
      "metadata": {
        "id": "TJcE9LXIA7_M"
      },
      "source": [
        "#  MODEL AND DATALOADER"
      ]
    },
    {
      "cell_type": "code",
      "execution_count": null,
      "metadata": {
        "colab": {
          "base_uri": "https://localhost:8080/"
        },
        "id": "vdu_Vm_esZ8B",
        "outputId": "5d2ab563-2bec-46ac-b001-581df05b016c"
      },
      "outputs": [
        {
          "name": "stdout",
          "output_type": "stream",
          "text": [
            "torch.Size([12068, 512])\n",
            "torch.Size([13330, 512])\n",
            "torch.Size([25398, 512])\n",
            "torch.Size([12068, 1]) torch.Size([13330, 1]) torch.Size([25398, 1])\n",
            "tensor([0.])\n"
          ]
        },
        {
          "name": "stderr",
          "output_type": "stream",
          "text": [
            "<ipython-input-176-4caa8d30e739>:3: FutureWarning: You are using `torch.load` with `weights_only=False` (the current default value), which uses the default pickle module implicitly. It is possible to construct malicious pickle data which will execute arbitrary code during unpickling (See https://github.com/pytorch/pytorch/blob/main/SECURITY.md#untrusted-models for more details). In a future release, the default value for `weights_only` will be flipped to `True`. This limits the functions that could be executed during unpickling. Arbitrary objects will no longer be allowed to be loaded via this mode unless they are explicitly allowlisted by the user via `torch.serialization.add_safe_globals`. We recommend you start setting `weights_only=True` for any use case where you don't have full control of the loaded file. Please open an issue on GitHub for any issues related to this experimental feature.\n",
            "  real_tensors = torch.load(\"/content/drive/MyDrive/gendet_image_encodings/image_encodings/real_image_encodings\")\n",
            "<ipython-input-176-4caa8d30e739>:4: FutureWarning: You are using `torch.load` with `weights_only=False` (the current default value), which uses the default pickle module implicitly. It is possible to construct malicious pickle data which will execute arbitrary code during unpickling (See https://github.com/pytorch/pytorch/blob/main/SECURITY.md#untrusted-models for more details). In a future release, the default value for `weights_only` will be flipped to `True`. This limits the functions that could be executed during unpickling. Arbitrary objects will no longer be allowed to be loaded via this mode unless they are explicitly allowlisted by the user via `torch.serialization.add_safe_globals`. We recommend you start setting `weights_only=True` for any use case where you don't have full control of the loaded file. Please open an issue on GitHub for any issues related to this experimental feature.\n",
            "  fake_tensors = torch.load(\"/content/drive/MyDrive/gendet_image_encodings/image_encodings/fake_image_encodings.pt\")\n"
          ]
        }
      ],
      "source": [
        "# Importing the .pt files mentioned in the CLIP section, for the real and fake image encodings.\n",
        "\n",
        "\n",
        "from torch.utils.data import TensorDataset, DataLoader, random_split\n",
        "\n",
        "real_tensors = torch.load(\"/content/drive/MyDrive/gendet_image_encodings/image_encodings/real_image_encodings\")\n",
        "fake_tensors = torch.load(\"/content/drive/MyDrive/gendet_image_encodings/image_encodings/fake_image_encodings.pt\")\n",
        "all_tensors = real_tensors + fake_tensors\n",
        "# print(len(real_tensors))\n",
        "real_tensors = torch.cat(real_tensors)\n",
        "fake_tensors = torch.cat(fake_tensors)\n",
        "all_tensors = torch.cat(all_tensors)\n",
        "print(real_tensors.shape)\n",
        "print(fake_tensors.shape)\n",
        "print(all_tensors.shape)\n",
        "\n",
        "real_outputs = torch.ones((len(real_tensors), 1), dtype=torch.float32)\n",
        "fake_outputs = torch.zeros((len(fake_tensors), 1), dtype=torch.float32)\n",
        "\n",
        "all_outputs = torch.cat([real_outputs, fake_outputs])\n",
        "\n",
        "print(real_outputs.shape, fake_outputs.shape, all_outputs.shape)\n",
        "print(all_outputs[12068])\n",
        "\n",
        "real_dataset = TensorDataset(real_tensors)\n",
        "fake_dataset = TensorDataset(fake_tensors)\n",
        "full_dataset = TensorDataset(all_tensors, all_outputs)\n",
        "\n",
        "train_split = 0.8\n",
        "val_split = 0.2\n",
        "\n",
        "\n",
        "\n",
        "\n",
        "#---------------Creating separeate datasets for real, fake and all images as intended in the research paper---------------------\n",
        "\n",
        "real_dataset_train, real_dataset_val = random_split(real_dataset, [math.ceil(train_split * len(real_dataset)), math.floor(val_split * len(real_dataset))])\n",
        "\n",
        "# print(len(real_dataset_train.indices), len(real_dataset_val.indices))\n",
        "\n",
        "fake_dataset_train, fake_dataset_val = random_split(fake_dataset, [math.ceil(train_split * len(fake_dataset)), math.floor(val_split * len(fake_dataset))])\n",
        "\n",
        "# print(len(fake_dataset_train.indices), len(fake_dataset_val.indices))\n",
        "\n",
        "full_dataset_train, full_dataset_val = random_split(full_dataset, [math.ceil(train_split * len(full_dataset)), math.floor(val_split * len(full_dataset))])"
      ]
    },
    {
      "cell_type": "code",
      "execution_count": null,
      "metadata": {
        "colab": {
          "base_uri": "https://localhost:8080/"
        },
        "collapsed": true,
        "id": "OEqsMC4lxBsk",
        "outputId": "06cecc21-478b-4b1d-e357-546ac8427e9f"
      },
      "outputs": [
        {
          "name": "stdout",
          "output_type": "stream",
          "text": [
            "torch.Size([32, 512]) torch.Size([32, 1])\n",
            "torch.Size([32, 512]) torch.Size([32, 1])\n"
          ]
        }
      ],
      "source": [
        "teacherLoaderTrain = DataLoader(full_dataset_train, batch_size=32, shuffle=True)\n",
        "teacherLoaderVal = DataLoader(full_dataset_val, batch_size=32, shuffle=True)\n",
        "\n",
        "\n",
        "for x, y in teacherLoaderTrain:\n",
        "  print(x.shape, y.shape)\n",
        "  break\n",
        "\n",
        "for x, y in teacherLoaderVal:\n",
        "  print(x.shape, y.shape)\n",
        "  break"
      ]
    },
    {
      "cell_type": "code",
      "execution_count": null,
      "metadata": {
        "colab": {
          "base_uri": "https://localhost:8080/"
        },
        "collapsed": true,
        "id": "pTsIV_Rl4rr4",
        "outputId": "4172a651-1016-4ae2-8323-26e3d97e8323"
      },
      "outputs": [
        {
          "name": "stdout",
          "output_type": "stream",
          "text": [
            "torch.Size([64, 512]) 0\n",
            "torch.Size([64, 512])\n"
          ]
        }
      ],
      "source": [
        "realLoaderTrain = DataLoader(real_dataset_train, batch_size=64, shuffle=True)\n",
        "realLoaderVal = DataLoader(real_dataset_val, batch_size=64, shuffle=True)\n",
        "\n",
        "for i,x in enumerate(realLoaderTrain):\n",
        "  print(x[0].shape, i)\n",
        "  x[0].to\n",
        "  break\n",
        "\n",
        "for x in realLoaderVal:\n",
        "  print(x[0].shape)\n",
        "  break"
      ]
    },
    {
      "cell_type": "code",
      "execution_count": null,
      "metadata": {
        "colab": {
          "base_uri": "https://localhost:8080/"
        },
        "id": "91X68-LkmJbO",
        "outputId": "d318917b-f050-4fd0-b360-7724dbe0bdbb"
      },
      "outputs": [
        {
          "name": "stdout",
          "output_type": "stream",
          "text": [
            "torch.Size([64, 512])\n",
            "torch.Size([64, 512])\n"
          ]
        }
      ],
      "source": [
        "fakeLoaderTrain = DataLoader(fake_dataset_train, batch_size=64, shuffle=True)\n",
        "fakeLoaderVal = DataLoader(fake_dataset_val, batch_size=64, shuffle=True)\n",
        "\n",
        "for x in fakeLoaderTrain:\n",
        "  print(x[0].shape)\n",
        "  break\n",
        "\n",
        "for x in fakeLoaderVal:\n",
        "  print(x[0].shape)\n",
        "  break"
      ]
    },
    {
      "cell_type": "markdown",
      "metadata": {},
      "source": [
        "# Hyperparameters"
      ]
    },
    {
      "cell_type": "code",
      "execution_count": null,
      "metadata": {
        "id": "aZQlvYUmQ5IR"
      },
      "outputs": [],
      "source": [
        "# Hyperparameter values\n",
        "\n",
        "import torch.optim as optim\n",
        "\n",
        "embed_dim = 196\n",
        "batch_size = 1\n",
        "seq_length = 4\n",
        "ff_dim = 196*4\n",
        "n_heads = 4\n",
        "ClIP_embed_dim = 512\n",
        "\n",
        "\n",
        "epochs = 50\n",
        "lr_transformer = 0.00001\n",
        "\n",
        "lr_gendet = 0.001\n",
        "\n",
        "# optimizer = optim.AdamW(genDetComplete.parameters(), lr= lr_transformer)"
      ]
    },
    {
      "cell_type": "markdown",
      "metadata": {},
      "source": [
        "# Function to freeze student and augmenter parameters based on training mode"
      ]
    },
    {
      "cell_type": "code",
      "execution_count": null,
      "metadata": {
        "id": "RH4RRrCdVtu8"
      },
      "outputs": [],
      "source": [
        "def SetTrainingModeParams(mode:str):\n",
        "\n",
        "    if mode == \"Teacher\":\n",
        "      for param in model.Teacher.parameters():\n",
        "        param.requires_grad =  True\n",
        "\n",
        "      for param in model.Student.parameters():\n",
        "        param.requires_grad =  False\n",
        "\n",
        "      for param in model.Augmenter.parameters():\n",
        "        param.requires_grad =  False\n",
        "\n",
        "    elif mode == \"Real\" or mode == \"Fake\":\n",
        "      for param in model.Student.parameters():\n",
        "        param.requires_grad =  True\n",
        "\n",
        "      for param in model.Teacher.parameters():\n",
        "        param.requires_grad =  False\n",
        "\n",
        "      for param in model.Augmenter.parameters():\n",
        "        param.requires_grad =  False\n",
        "\n",
        "    elif mode == \"Fake Augmenter\":\n",
        "      for param in model.Augmenter.parameters():\n",
        "        param.requires_grad =  True\n",
        "\n",
        "      for param in model.Student.parameters():\n",
        "        param.requires_grad =  False\n",
        "\n",
        "      for param in model.Teacher.parameters():\n",
        "        param.requires_grad =  False\n"
      ]
    },
    {
      "cell_type": "code",
      "execution_count": null,
      "metadata": {
        "id": "7RtDDaOUMTOu"
      },
      "outputs": [],
      "source": [
        "modes = [\"Real\",\"Fake\",\"Fake Augmenter\"]\n",
        "losses = {}\n",
        "\n",
        "\n",
        "#real images\n",
        "losses[\"Teacher\"] = nn.BCELoss()\n",
        "losses[\"Real\"] = mse_loss_new()\n",
        "losses[\"Fake\"] = TeacherStudent_loss_fake()\n",
        "losses[\"Fake Augmenter\"] = mse_loss_new()\n",
        "\n",
        "#fake images\n",
        "# losses[\"Teacher\"] = nn.BCELoss()\n",
        "# losses[\"Student\"] = TeacherStudent_loss_fake()\n",
        "# losses[\"GenDet\"] = nn.MSELoss()\n"
      ]
    },
    {
      "cell_type": "markdown",
      "metadata": {
        "id": "AqRB4l7iswlQ"
      },
      "source": [
        "# Teacher Pretraining Phase"
      ]
    },
    {
      "cell_type": "code",
      "execution_count": null,
      "metadata": {
        "id": "ObZXY1wmnrG-"
      },
      "outputs": [],
      "source": [
        "# Training and Inference methods\n",
        "# Pass Parameters?\n",
        "#  NOT PASSING FAKE DATASET IN THREE STAGE\n",
        "def Teacher_PreTrainer(trainLoader, valLoader):\n",
        "\n",
        "  SetTrainingModeParams(\"Teacher\")\n",
        "\n",
        "  optimizer = optim.AdamW(model.parameters(), lr = lr_transformer)\n",
        "\n",
        "\n",
        "  loss_fn = losses[\"Teacher\"]\n",
        "\n",
        "  train_losses = []\n",
        "  train_accuracy =[]\n",
        "\n",
        "  val_losses = []\n",
        "  val_accuracy =[]\n",
        "\n",
        "\n",
        "  for epoch in range(epochs):\n",
        "    epoch_train_loss = 0\n",
        "    epoch_train_accuracy = []\n",
        "\n",
        "    epoch_val_loss = 0\n",
        "    epoch_val_accuracy = []\n",
        "    model.train()\n",
        "\n",
        "    print('EPOCH {}:\\n'.format(epoch + 1))\n",
        "    for x, y in trainLoader:\n",
        "\n",
        "      x = x.to(device)\n",
        "      y = y.to(device)\n",
        "\n",
        "      # print(x.shape, y.shape)\n",
        "      optimizer.zero_grad()\n",
        "      teach_out_final = model(x, \"Teacher\")\n",
        "      loss = loss_fn(teach_out_final, y)\n",
        "      loss.backward()\n",
        "      optimizer.step()\n",
        "\n",
        "      epoch_train_loss += loss.item()\n",
        "      # print(epoch_train_loss)\n",
        "\n",
        "      # print(epoch_train_loss)\n",
        "\n",
        "      teach_out_final = (teach_out_final > 0.5).float()\n",
        "      correct_predicts = (teach_out_final == y).float()\n",
        "      accuracy = ((correct_predicts.sum() / correct_predicts.size(0)) * 100)\n",
        "      epoch_train_accuracy.append(accuracy)\n",
        "\n",
        "\n",
        "    print('TRAIN_LOSS: {}'.format(epoch_train_loss))\n",
        "    train_losses.append(epoch_train_loss)\n",
        "    avg_accuracy = (torch.stack(epoch_train_accuracy)).mean()\n",
        "    train_accuracy.append(avg_accuracy)\n",
        "    print('TRAIN_ACC: {}\\n'.format(avg_accuracy))\n",
        "\n",
        "\n",
        "\n",
        "    model.eval()\n",
        "\n",
        "    with torch.no_grad():\n",
        "\n",
        "      for x, y in valLoader:\n",
        "\n",
        "        x = x.to(device)\n",
        "        y = y.to(device)\n",
        "\n",
        "        outs = model(x, \"Teacher\")\n",
        "        loss = loss_fn(outs, y)\n",
        "\n",
        "        epoch_val_loss += loss.item()\n",
        "\n",
        "        outs = (outs > 0.5).float()\n",
        "        outs = (outs == y).float()\n",
        "        accuracy = ((outs.sum() / outs.size(0)) * 100)\n",
        "        epoch_val_accuracy.append(accuracy)\n",
        "\n",
        "    print('VAL_LOSS: {}'.format(epoch_val_loss))\n",
        "    val_losses.append(epoch_val_loss)\n",
        "    avg_accuracy = (torch.stack(epoch_val_accuracy)).mean()\n",
        "    print('VAL_ACC: {}\\n'.format(avg_accuracy))\n",
        "    val_accuracy.append(epoch_val_accuracy)\n",
        "\n",
        "  return train_accuracy, train_losses, val_accuracy, val_losses\n",
        "\n",
        "#Warmup steps?"
      ]
    },
    {
      "cell_type": "code",
      "execution_count": null,
      "metadata": {
        "colab": {
          "base_uri": "https://localhost:8080/"
        },
        "collapsed": true,
        "id": "VoyVAHNN3FDJ",
        "outputId": "dc2590b5-fddd-40ce-b568-7d25754d7ffd"
      },
      "outputs": [
        {
          "name": "stdout",
          "output_type": "stream",
          "text": [
            "EPOCH 1:\n",
            "\n",
            "TRAIN_LOSS: 265.6397636681795\n",
            "TRAIN_ACC: 81.4212875366211\n",
            "\n",
            "VAL_LOSS: 41.93561540171504\n",
            "VAL_ACC: 88.81681823730469\n",
            "\n",
            "EPOCH 2:\n",
            "\n",
            "TRAIN_LOSS: 163.51772906258702\n",
            "TRAIN_ACC: 89.52247619628906\n",
            "\n",
            "VAL_LOSS: 41.593817837536335\n",
            "VAL_ACC: 90.36180114746094\n",
            "\n",
            "EPOCH 3:\n",
            "\n",
            "TRAIN_LOSS: 143.82712575793266\n",
            "TRAIN_ACC: 90.93440246582031\n",
            "\n",
            "VAL_LOSS: 34.26261672284454\n",
            "VAL_ACC: 91.89910125732422\n",
            "\n",
            "EPOCH 4:\n",
            "\n",
            "TRAIN_LOSS: 135.09545893594623\n",
            "TRAIN_ACC: 91.5343246459961\n",
            "\n",
            "VAL_LOSS: 32.24607868865132\n",
            "VAL_ACC: 92.07170867919922\n",
            "\n",
            "EPOCH 5:\n",
            "\n",
            "TRAIN_LOSS: 126.94067922234535\n",
            "TRAIN_ACC: 92.16043090820312\n",
            "\n",
            "VAL_LOSS: 33.17227216344327\n",
            "VAL_ACC: 92.11101531982422\n",
            "\n",
            "EPOCH 6:\n",
            "\n",
            "TRAIN_LOSS: 123.63036894239485\n",
            "TRAIN_ACC: 92.34236145019531\n",
            "\n",
            "VAL_LOSS: 31.92129190824926\n",
            "VAL_ACC: 92.45709991455078\n",
            "\n",
            "EPOCH 7:\n",
            "\n",
            "TRAIN_LOSS: 121.38128453306854\n",
            "TRAIN_ACC: 92.44570922851562\n",
            "\n",
            "VAL_LOSS: 31.221492186188698\n",
            "VAL_ACC: 92.73995208740234\n",
            "\n",
            "EPOCH 8:\n",
            "\n",
            "TRAIN_LOSS: 117.36820307001472\n",
            "TRAIN_ACC: 92.72589874267578\n",
            "\n",
            "VAL_LOSS: 32.608694788999856\n",
            "VAL_ACC: 92.53572082519531\n",
            "\n",
            "EPOCH 9:\n",
            "\n",
            "TRAIN_LOSS: 115.85206874459982\n",
            "TRAIN_ACC: 92.81956481933594\n",
            "\n",
            "VAL_LOSS: 29.301667038351297\n",
            "VAL_ACC: 93.2039566040039\n",
            "\n",
            "EPOCH 10:\n",
            "\n",
            "TRAIN_LOSS: 113.95675650052726\n",
            "TRAIN_ACC: 92.88353729248047\n",
            "\n",
            "VAL_LOSS: 29.880338294431567\n",
            "VAL_ACC: 92.92452239990234\n",
            "\n",
            "EPOCH 11:\n",
            "\n",
            "TRAIN_LOSS: 111.89571738056839\n",
            "TRAIN_ACC: 93.17388916015625\n",
            "\n",
            "VAL_LOSS: 28.70988953113556\n",
            "VAL_ACC: 93.11337280273438\n",
            "\n",
            "EPOCH 12:\n",
            "\n",
            "TRAIN_LOSS: 110.88180174306035\n",
            "TRAIN_ACC: 93.03101348876953\n",
            "\n",
            "VAL_LOSS: 30.588415143080056\n",
            "VAL_ACC: 92.83052825927734\n",
            "\n",
            "EPOCH 13:\n",
            "\n",
            "TRAIN_LOSS: 109.14035102911294\n",
            "TRAIN_ACC: 93.24295043945312\n",
            "\n",
            "VAL_LOSS: 28.84009088203311\n",
            "VAL_ACC: 92.91683197021484\n",
            "\n",
            "EPOCH 14:\n",
            "\n",
            "TRAIN_LOSS: 107.17229505255818\n",
            "TRAIN_ACC: 93.3559799194336\n",
            "\n",
            "VAL_LOSS: 30.33944906387478\n",
            "VAL_ACC: 93.11337280273438\n",
            "\n",
            "EPOCH 15:\n",
            "\n",
            "TRAIN_LOSS: 104.6471360353753\n",
            "TRAIN_ACC: 93.50885772705078\n",
            "\n",
            "VAL_LOSS: 28.68938394356519\n",
            "VAL_ACC: 93.57738494873047\n",
            "\n",
            "EPOCH 16:\n",
            "\n",
            "TRAIN_LOSS: 103.0178152769804\n",
            "TRAIN_ACC: 93.52838134765625\n",
            "\n",
            "VAL_LOSS: 30.324699106626213\n",
            "VAL_ACC: 93.1723403930664\n",
            "\n",
            "EPOCH 17:\n",
            "\n",
            "TRAIN_LOSS: 100.38976982608438\n",
            "TRAIN_ACC: 93.86779022216797\n",
            "\n",
            "VAL_LOSS: 28.594031773507595\n",
            "VAL_ACC: 93.52268981933594\n",
            "\n",
            "EPOCH 18:\n",
            "\n",
            "TRAIN_LOSS: 98.64355889800936\n",
            "TRAIN_ACC: 93.94637298583984\n",
            "\n",
            "VAL_LOSS: 27.87950689252466\n",
            "VAL_ACC: 93.66368865966797\n",
            "\n",
            "EPOCH 19:\n",
            "\n",
            "TRAIN_LOSS: 95.80287798307836\n",
            "TRAIN_ACC: 94.23704528808594\n",
            "\n",
            "VAL_LOSS: 27.92697460670024\n",
            "VAL_ACC: 94.02942657470703\n",
            "\n",
            "EPOCH 20:\n",
            "\n",
            "TRAIN_LOSS: 93.09473804756999\n",
            "TRAIN_ACC: 94.26165008544922\n",
            "\n",
            "VAL_LOSS: 28.991336847655475\n",
            "VAL_ACC: 93.8209228515625\n",
            "\n"
          ]
        }
      ],
      "source": [
        "epochs = 20\n",
        "# lr_transformer = 0.000001\n",
        "lr_transformer = 0.00001\n",
        "Teacher_PreTrainer(teacherLoaderTrain, teacherLoaderVal)\n",
        "\n",
        "# torch.save(model.state_dict(), PATH)"
      ]
    },
    {
      "cell_type": "markdown",
      "metadata": {
        "id": "3bvQSQndY-MS"
      },
      "source": [
        "# Load model again"
      ]
    },
    {
      "cell_type": "code",
      "execution_count": null,
      "metadata": {
        "collapsed": true,
        "id": "cZYROeTklsR9"
      },
      "outputs": [],
      "source": [
        "PATH = '/content/drive/MyDrive/teacher_pretrained.pt'\n",
        "# torch.save(model.state_dict(), PATH)\n",
        "\n",
        "model = GenDetComplete(embed_dim=embed_dim, seq_length=seq_length, ff_dim=ff_dim, n_heads=n_heads, CLIP_embed_dim=ClIP_embed_dim)\n",
        "\n",
        "# , map_location=torch.device(\"cpu\")\n",
        "\n",
        "model.load_state_dict(torch.load(PATH, weights_only=False))\n",
        "\n",
        "model = model.to(device)\n",
        "\n",
        "# BC = Binary_Classifier().to(device)\n",
        "\n",
        "# device\n",
        "# epochs = 20\n",
        "# lr_transformer = 0.000001\n",
        "# # lr_transformer = 0.00001\n",
        "# Teacher_PreTrainer(teacherLoaderTrain, teacherLoaderVal)"
      ]
    },
    {
      "cell_type": "markdown",
      "metadata": {
        "id": "rEmnbQGArQ3h"
      },
      "source": [
        "# Three stage model training"
      ]
    },
    {
      "cell_type": "code",
      "execution_count": null,
      "metadata": {
        "colab": {
          "base_uri": "https://localhost:8080/"
        },
        "collapsed": true,
        "id": "PLVr7aIGvlkD",
        "outputId": "81f1218b-f1dd-4ec5-b446-dda2699c13b9"
      },
      "outputs": [
        {
          "name": "stdout",
          "output_type": "stream",
          "text": [
            "EPOCH 1:\n",
            "\n",
            "Real TRAIN LOSS: 49.657793790102005\n",
            "Real VAL LOSS: 1.413122996687889\n",
            "Fake TRAIN LOSS: 21.003014595189597\n",
            "Fake VAL LOSS: 0.0013384358026087284\n",
            "Fake Augmenter TRAIN LOSS: 153.37348747253418\n",
            "Fake Augmenter VAL LOSS: 4.969570718705654\n",
            "EPOCH 2:\n",
            "\n",
            "Real TRAIN LOSS: 48.71669578552246\n",
            "Real VAL LOSS: 1.4312446527183056\n",
            "Fake TRAIN LOSS: 21.925677185878158\n",
            "Fake VAL LOSS: 0.0023814779706299305\n",
            "Fake Augmenter TRAIN LOSS: 222.89969128370285\n",
            "Fake Augmenter VAL LOSS: 20.1786727309227\n",
            "EPOCH 3:\n",
            "\n",
            "Real TRAIN LOSS: 79.6107913851738\n",
            "Real VAL LOSS: 3.809926487505436\n",
            "Fake TRAIN LOSS: 10.216692567337304\n",
            "Fake VAL LOSS: 0.0\n",
            "Fake Augmenter TRAIN LOSS: 125.79384195804596\n",
            "Fake Augmenter VAL LOSS: 4.22846432775259\n",
            "EPOCH 4:\n",
            "\n",
            "Real TRAIN LOSS: 59.524302273988724\n",
            "Real VAL LOSS: 1.5210529416799545\n",
            "Fake TRAIN LOSS: 11.675844843965024\n",
            "Fake VAL LOSS: 0.00038497941568493843\n",
            "Fake Augmenter TRAIN LOSS: 121.27310118079185\n",
            "Fake Augmenter VAL LOSS: 6.534250348806381\n",
            "EPOCH 5:\n",
            "\n",
            "Real TRAIN LOSS: 48.05335921049118\n",
            "Real VAL LOSS: 1.2510942481458187\n",
            "Fake TRAIN LOSS: 27.4143352504816\n",
            "Fake VAL LOSS: 0.004294569662306458\n",
            "Fake Augmenter TRAIN LOSS: 143.80088818073273\n",
            "Fake Augmenter VAL LOSS: 4.672000043094158\n"
          ]
        }
      ],
      "source": [
        "#try 10?\n",
        "def ThreeStage_Trainer(realLoaderTrain, realLoaderVal, fakeLoaderTrain, fakeLoaderVal):\n",
        "\n",
        "  optimizer = optim.AdamW(model.parameters(), lr = lr_transformer)\n",
        "\n",
        "  for epoch in range(epochs):\n",
        "      print('EPOCH {}:\\n'.format(epoch + 1))\n",
        "      for mode in modes:\n",
        "\n",
        "        SetTrainingModeParams(mode)\n",
        "\n",
        "        # We set the loss function to use depending on which phase of training it is.\n",
        "        loss_fn = losses[mode]\n",
        "        train_loss = 0\n",
        "        train_accuracy = []\n",
        "\n",
        "        val_loss = 0\n",
        "        val_accuracy = []\n",
        "\n",
        "\n",
        "        if mode == \"Real\":\n",
        "          model.train()\n",
        "          for x in realLoaderTrain:\n",
        "\n",
        "            X = x[0].to(device)\n",
        "\n",
        "            optimizer.zero_grad()\n",
        "            teach_out, stud_out = model(X, mode)\n",
        "            # print(teach_out.shape)\n",
        "            loss = loss_fn(teach_out, stud_out)\n",
        "            loss.backward()\n",
        "            optimizer.step()\n",
        "\n",
        "            train_loss += loss.item()\n",
        "            # print(train_loss)\n",
        "\n",
        "          print('{mode} TRAIN LOSS: {train_loss}'.format(mode = mode, train_loss = train_loss))\n",
        "\n",
        "          model.eval()\n",
        "          with torch.no_grad():\n",
        "\n",
        "            for x in realLoaderVal:\n",
        "\n",
        "              X = x[0].to(device)\n",
        "\n",
        "              teach_out, stud_out = model(X, mode)\n",
        "              loss = loss_fn(teach_out, stud_out)\n",
        "\n",
        "              val_loss += loss.item()\n",
        "\n",
        "          print('{mode} VAL LOSS: {val_loss}'.format(mode = mode, val_loss = val_loss))\n",
        "\n",
        "        else:\n",
        "          model.train()\n",
        "          for x in fakeLoaderTrain:\n",
        "\n",
        "            X = x[0].to(device)\n",
        "\n",
        "            optimizer.zero_grad()\n",
        "            teach_out, stud_out = model(X, mode)\n",
        "            loss = loss_fn(teach_out, stud_out)\n",
        "            loss.backward()\n",
        "            optimizer.step()\n",
        "\n",
        "            train_loss += loss.item()\n",
        "\n",
        "          print('{mode} TRAIN LOSS: {train_loss}'.format(mode = mode, train_loss = train_loss))\n",
        "\n",
        "          model.eval()\n",
        "          with torch.no_grad():\n",
        "\n",
        "            for x in fakeLoaderVal:\n",
        "\n",
        "              X = x[0].to(device)\n",
        "\n",
        "              teach_out, stud_out = model(X, mode)\n",
        "              loss = loss_fn(teach_out, stud_out)\n",
        "\n",
        "              val_loss += loss.item()\n",
        "\n",
        "          print('{mode} VAL LOSS: {val_loss}'.format(mode = mode, val_loss = val_loss))\n",
        "\n",
        "\n",
        "\n",
        "\n",
        "epochs = 5\n",
        "lr_transformer = 0.0001\n",
        "ThreeStage_Trainer(realLoaderTrain, realLoaderVal, fakeLoaderTrain, fakeLoaderVal)"
      ]
    },
    {
      "cell_type": "markdown",
      "metadata": {
        "id": "h5hQywM2IB9h"
      },
      "source": [
        "# Making dataset for the Binary Classifier using the GenDet outputs"
      ]
    },
    {
      "cell_type": "code",
      "execution_count": null,
      "metadata": {
        "colab": {
          "base_uri": "https://localhost:8080/"
        },
        "id": "yyPic6a35kIX",
        "outputId": "7975ebd7-ccd9-4332-8691-e59290d5bbd3"
      },
      "outputs": [
        {
          "name": "stdout",
          "output_type": "stream",
          "text": [
            "635 635\n",
            "torch.Size([32, 784])\n",
            "torch.Size([32, 784])\n",
            "159 159\n",
            "torch.Size([32, 784])\n",
            "torch.Size([32, 784])\n",
            "635 159\n",
            "torch.Size([32, 1]) torch.Size([32, 1])\n"
          ]
        }
      ],
      "source": [
        "# Creating Classifier data using model inference\n",
        "\n",
        "GenDetTeachOuts_train = []\n",
        "GenDetStudOuts_train = []\n",
        "GenDetTeachOuts_val = []\n",
        "GenDetStudOuts_val = []\n",
        "\n",
        "GenDetActualOuts_train = []\n",
        "GenDetActualOuts_val = []\n",
        "\n",
        "model.eval()\n",
        "\n",
        "with torch.no_grad():\n",
        "\n",
        "  for x, y in teacherLoaderTrain:\n",
        "\n",
        "    x = x.to(device)\n",
        "    # y = y.to(device)\n",
        "    teach_out, stud_out = model(x, \"Inference\")\n",
        "    GenDetTeachOuts_train.append(teach_out)\n",
        "    GenDetStudOuts_train.append(stud_out)\n",
        "    GenDetActualOuts_train.append(y)\n",
        "\n",
        "  for x, y in teacherLoaderVal:\n",
        "\n",
        "    x = x.to(device)\n",
        "    # y = y.to(device)\n",
        "    teach_out, stud_out = model(x, \"Inference\")\n",
        "    GenDetTeachOuts_val.append(teach_out)\n",
        "    GenDetStudOuts_val.append(stud_out)\n",
        "    GenDetActualOuts_val.append(y)\n",
        "\n",
        "\n",
        "print(len(GenDetTeachOuts_train), len(GenDetStudOuts_train))\n",
        "print(GenDetTeachOuts_train[0].shape)\n",
        "print(GenDetStudOuts_train[0].shape)\n",
        "\n",
        "print(len(GenDetTeachOuts_val), len(GenDetStudOuts_val))\n",
        "print(GenDetTeachOuts_val[0].shape)\n",
        "print(GenDetStudOuts_val[0].shape)\n",
        "\n",
        "print(len(GenDetActualOuts_train), len(GenDetActualOuts_val))\n",
        "print(GenDetActualOuts_train[0].shape, GenDetActualOuts_val[0].shape)\n",
        "\n",
        "# BC_tensors = torch.cat(GenDetOuts)\n",
        "# print(BC_tensors.shape)"
      ]
    },
    {
      "cell_type": "code",
      "execution_count": null,
      "metadata": {
        "colab": {
          "base_uri": "https://localhost:8080/"
        },
        "id": "ZeiA3_Ec-tFf",
        "outputId": "b3a5e831-1188-4c7c-db06-456e7f564c81"
      },
      "outputs": [
        {
          "name": "stdout",
          "output_type": "stream",
          "text": [
            "torch.Size([20319, 784]) torch.Size([5079, 784]) torch.Size([20319, 784]) torch.Size([5079, 784]) torch.Size([20319, 1]) torch.Size([5079, 1])\n"
          ]
        }
      ],
      "source": [
        "GenDetTeachOuts_train = torch.cat(GenDetTeachOuts_train)\n",
        "GenDetTeachOuts_val = torch.cat(GenDetTeachOuts_val)\n",
        "\n",
        "GenDetStudOuts_train = torch.cat(GenDetStudOuts_train)\n",
        "GenDetStudOuts_val = torch.cat(GenDetStudOuts_val)\n",
        "\n",
        "GenDetActualOuts_train = torch.cat(GenDetActualOuts_train)\n",
        "GenDetActualOuts_val = torch.cat(GenDetActualOuts_val)\n",
        "\n",
        "\n",
        "print(GenDetTeachOuts_train.shape, GenDetTeachOuts_val.shape,\n",
        "      GenDetStudOuts_train.shape, GenDetStudOuts_val.shape,\n",
        "      GenDetActualOuts_train.shape, GenDetActualOuts_val.shape)"
      ]
    },
    {
      "cell_type": "code",
      "execution_count": null,
      "metadata": {
        "id": "Nn85bbP291OQ"
      },
      "outputs": [],
      "source": [
        "# The train and validation datasets for the Binary Classifier\n",
        "\n",
        "\n",
        "BCDataset_train = TensorDataset(GenDetTeachOuts_train, GenDetStudOuts_train, GenDetActualOuts_train)\n",
        "BCDataset_val = TensorDataset(GenDetTeachOuts_val, GenDetStudOuts_val, GenDetActualOuts_val)\n",
        "\n",
        "BCTrainLoader = DataLoader(BCDataset_train, batch_size=32, shuffle=True)\n",
        "BCValLoader = DataLoader(BCDataset_val, batch_size=32, shuffle=True)"
      ]
    },
    {
      "cell_type": "code",
      "execution_count": null,
      "metadata": {
        "colab": {
          "base_uri": "https://localhost:8080/"
        },
        "id": "Fe2r9RxCEDlu",
        "outputId": "731a703b-853b-40d8-ac3f-f187f9eace46"
      },
      "outputs": [
        {
          "name": "stdout",
          "output_type": "stream",
          "text": [
            "torch.Size([32, 784]) torch.Size([32, 784]) torch.Size([32, 1])\n",
            "torch.Size([32, 784]) torch.Size([32, 784]) torch.Size([32, 1])\n"
          ]
        }
      ],
      "source": [
        "for x, y, z in BCTrainLoader:\n",
        "  print(x.shape, y.shape, z.shape)\n",
        "  break\n",
        "\n",
        "for x, y, z in BCValLoader:\n",
        "  print(x.shape, y.shape, z.shape)\n",
        "  break"
      ]
    },
    {
      "cell_type": "markdown",
      "metadata": {
        "id": "VwDlIzytPaid"
      },
      "source": [
        "# Training the Classifier"
      ]
    },
    {
      "cell_type": "code",
      "execution_count": null,
      "metadata": {
        "id": "KhggRgtOjsUS"
      },
      "outputs": [],
      "source": [
        "# BC = Binary_Classifier().to(device)\n",
        "class FinalClassifier(nn.Module):\n",
        "  def __init__(self):\n",
        "    super(FinalClassifier, self).__init__()\n",
        "\n",
        "\n",
        "    self.loss_fn = mse_loss_new_withoutBatchAverage()\n",
        "    self.fc1 = nn.Linear(1,1)\n",
        "    self.sigmoid = nn.Sigmoid()\n",
        "\n",
        "\n",
        "  def forward(self, teach_out, stud_out):\n",
        "    loss = self.loss_fn(teach_out, stud_out)\n",
        "    fc1_out = self.fc1(loss)\n",
        "    outs = self.sigmoid(fc1_out)\n",
        "\n",
        "    return outs\n",
        "\n",
        "FC = FinalClassifier().to(device)\n"
      ]
    },
    {
      "cell_type": "code",
      "execution_count": null,
      "metadata": {
        "id": "ows20KiwRmr-"
      },
      "outputs": [],
      "source": [
        "def BinaryClassifier_Trainer(dataLoaderTrain, dataLoaderVal):\n",
        "\n",
        "  optimizer = optim.AdamW(FC.parameters(), lr = lr_transformer)\n",
        "  loss_fn = nn.BCELoss()\n",
        "\n",
        "  train_losses = []\n",
        "  train_accuracy =[]\n",
        "\n",
        "  val_losses = []\n",
        "  val_accuracy =[]\n",
        "\n",
        "\n",
        "  for epoch in range(epochs):\n",
        "\n",
        "    print('EPOCH {}:\\n'.format(epoch + 1))\n",
        "\n",
        "    epoch_train_loss = 0\n",
        "    epoch_train_accuracy = []\n",
        "\n",
        "    epoch_val_loss = 0\n",
        "    epoch_val_accuracy = []\n",
        "\n",
        "    FC.train()\n",
        "\n",
        "    for x, y, z in dataLoaderTrain:\n",
        "\n",
        "      x = x.to(device)\n",
        "      y = y.to(device)\n",
        "      z = z.to(device)\n",
        "\n",
        "\n",
        "      optimizer.zero_grad()\n",
        "      outs = FC(x, y)\n",
        "      # print(outs, z)\n",
        "      loss = loss_fn(outs, z)\n",
        "      loss.backward()\n",
        "      optimizer.step()\n",
        "\n",
        "      epoch_train_loss += loss.item()\n",
        "      # print(epoch_train_loss)\n",
        "\n",
        "      # print(epoch_train_loss)\n",
        "\n",
        "      outs = (outs > 0.5).float()\n",
        "      correct_predicts = (outs == z).float()\n",
        "      accuracy = ((correct_predicts.sum() / correct_predicts.size(0)) * 100)\n",
        "      epoch_train_accuracy.append(accuracy)\n",
        "\n",
        "    print('TRAIN_LOSS: {}'.format(epoch_train_loss))\n",
        "\n",
        "    avg_accuracy = (torch.stack(epoch_train_accuracy)).mean()\n",
        "    print('TRAIN_ACC: {}\\n'.format(avg_accuracy))\n",
        "\n",
        "\n",
        "    FC.eval()\n",
        "\n",
        "    with torch.no_grad():\n",
        "\n",
        "      for x, y, z in dataLoaderVal:\n",
        "\n",
        "        x = x.to(device)\n",
        "        y = y.to(device)\n",
        "        z = z.to(device)\n",
        "\n",
        "        outs = FC(x, y)\n",
        "        # print(outs, z)\n",
        "        # print(out.shape)\n",
        "        loss = loss_fn(outs, z)\n",
        "\n",
        "        epoch_val_loss += loss.item()\n",
        "\n",
        "        outs = (outs > 0.5).float()\n",
        "        outs = (outs == z).float()\n",
        "        accuracy = ((outs.sum() / outs.size(0)) * 100)\n",
        "        epoch_val_accuracy.append(accuracy)\n",
        "\n",
        "      print('VAL_LOSS: {}'.format(epoch_val_loss))\n",
        "\n",
        "      avg_accuracy = (torch.stack(epoch_val_accuracy)).mean()\n",
        "      print('VAL_ACC: {}\\n'.format(avg_accuracy))\n"
      ]
    },
    {
      "cell_type": "code",
      "execution_count": null,
      "metadata": {
        "colab": {
          "base_uri": "https://localhost:8080/"
        },
        "id": "1a6xBjlO5Lr_",
        "outputId": "68da5de1-acf5-4fec-fa98-278e67c8525b"
      },
      "outputs": [
        {
          "name": "stdout",
          "output_type": "stream",
          "text": [
            "EPOCH 1:\n",
            "\n",
            "TRAIN_LOSS: 488.87220388650894\n",
            "TRAIN_ACC: 47.54603958129883\n",
            "\n",
            "VAL_LOSS: 114.98828822374344\n",
            "VAL_ACC: 47.38429641723633\n",
            "\n",
            "EPOCH 2:\n",
            "\n",
            "TRAIN_LOSS: 446.61348700523376\n",
            "TRAIN_ACC: 47.547306060791016\n",
            "\n",
            "VAL_LOSS: 109.14435917139053\n",
            "VAL_ACC: 47.38429641723633\n",
            "\n",
            "EPOCH 3:\n",
            "\n",
            "TRAIN_LOSS: 424.8539286851883\n",
            "TRAIN_ACC: 49.00415802001953\n",
            "\n",
            "VAL_LOSS: 103.84265130758286\n",
            "VAL_ACC: 58.40169143676758\n",
            "\n",
            "EPOCH 4:\n",
            "\n",
            "TRAIN_LOSS: 403.8075992465019\n",
            "TRAIN_ACC: 69.64471435546875\n",
            "\n",
            "VAL_LOSS: 98.77258777618408\n",
            "VAL_ACC: 77.22945404052734\n",
            "\n",
            "EPOCH 5:\n",
            "\n",
            "TRAIN_LOSS: 384.0948924422264\n",
            "TRAIN_ACC: 80.87550354003906\n",
            "\n",
            "VAL_LOSS: 94.10064345598221\n",
            "VAL_ACC: 82.66936492919922\n",
            "\n",
            "EPOCH 6:\n",
            "\n",
            "TRAIN_LOSS: 366.0061659812927\n",
            "TRAIN_ACC: 83.97003173828125\n",
            "\n",
            "VAL_LOSS: 89.8560403585434\n",
            "VAL_ACC: 84.9022445678711\n",
            "\n",
            "EPOCH 7:\n",
            "\n",
            "TRAIN_LOSS: 349.52567997574806\n",
            "TRAIN_ACC: 85.7516860961914\n",
            "\n",
            "VAL_LOSS: 86.01309940218925\n",
            "VAL_ACC: 84.72108459472656\n",
            "\n",
            "EPOCH 8:\n",
            "\n",
            "TRAIN_LOSS: 334.7359192073345\n",
            "TRAIN_ACC: 85.90471649169922\n",
            "\n",
            "VAL_LOSS: 82.56414493918419\n",
            "VAL_ACC: 85.40555572509766\n",
            "\n",
            "EPOCH 9:\n",
            "\n",
            "TRAIN_LOSS: 321.5219475924969\n",
            "TRAIN_ACC: 86.15061950683594\n",
            "\n",
            "VAL_LOSS: 79.49427124857903\n",
            "VAL_ACC: 85.76274871826172\n",
            "\n",
            "EPOCH 10:\n",
            "\n",
            "TRAIN_LOSS: 309.81329783797264\n",
            "TRAIN_ACC: 86.39620971679688\n",
            "\n",
            "VAL_LOSS: 76.78259015083313\n",
            "VAL_ACC: 85.92425537109375\n",
            "\n",
            "EPOCH 11:\n",
            "\n",
            "TRAIN_LOSS: 299.42789751291275\n",
            "TRAIN_ACC: 86.46605682373047\n",
            "\n",
            "VAL_LOSS: 74.40414518117905\n",
            "VAL_ACC: 86.34126281738281\n",
            "\n",
            "EPOCH 12:\n",
            "\n",
            "TRAIN_LOSS: 290.27062514424324\n",
            "TRAIN_ACC: 86.66719818115234\n",
            "\n",
            "VAL_LOSS: 72.25592145323753\n",
            "VAL_ACC: 86.18744659423828\n",
            "\n",
            "EPOCH 13:\n",
            "\n",
            "TRAIN_LOSS: 282.08396434783936\n",
            "TRAIN_ACC: 86.65750885009766\n",
            "\n",
            "VAL_LOSS: 70.38136246800423\n",
            "VAL_ACC: 86.33699035644531\n",
            "\n",
            "EPOCH 14:\n",
            "\n",
            "TRAIN_LOSS: 274.75529459118843\n",
            "TRAIN_ACC: 86.74609375\n",
            "\n",
            "VAL_LOSS: 68.6689703464508\n",
            "VAL_ACC: 86.37202453613281\n",
            "\n",
            "EPOCH 15:\n",
            "\n",
            "TRAIN_LOSS: 268.15813487768173\n",
            "TRAIN_ACC: 86.67719268798828\n",
            "\n",
            "VAL_LOSS: 67.15327560901642\n",
            "VAL_ACC: 86.50191497802734\n",
            "\n",
            "EPOCH 16:\n",
            "\n",
            "TRAIN_LOSS: 262.2235679924488\n",
            "TRAIN_ACC: 86.75609588623047\n",
            "\n",
            "VAL_LOSS: 65.79674431681633\n",
            "VAL_ACC: 86.42329406738281\n",
            "\n",
            "EPOCH 17:\n",
            "\n",
            "TRAIN_LOSS: 257.04846289753914\n",
            "TRAIN_ACC: 86.73625183105469\n",
            "\n",
            "VAL_LOSS: 64.65642359852791\n",
            "VAL_ACC: 86.64803314208984\n",
            "\n",
            "EPOCH 18:\n",
            "\n",
            "TRAIN_LOSS: 252.49467766284943\n",
            "TRAIN_ACC: 86.74625396728516\n",
            "\n",
            "VAL_LOSS: 63.583222568035126\n",
            "VAL_ACC: 86.72237396240234\n",
            "\n",
            "EPOCH 19:\n",
            "\n",
            "TRAIN_LOSS: 248.34969061613083\n",
            "TRAIN_ACC: 86.7710189819336\n",
            "\n",
            "VAL_LOSS: 62.62300366163254\n",
            "VAL_ACC: 86.73776245117188\n",
            "\n",
            "EPOCH 20:\n",
            "\n",
            "TRAIN_LOSS: 244.62834905087948\n",
            "TRAIN_ACC: 86.75133514404297\n",
            "\n",
            "VAL_LOSS: 61.74494016170502\n",
            "VAL_ACC: 86.65914916992188\n",
            "\n"
          ]
        }
      ],
      "source": [
        "epochs = 20\n",
        "# lr_transformer = 0.001\n",
        "lr_transformer = 0.001\n",
        "BinaryClassifier_Trainer(BCTrainLoader, BCValLoader)"
      ]
    },
    {
      "cell_type": "code",
      "execution_count": null,
      "metadata": {
        "id": "tq6_7rh48bQA"
      },
      "outputs": [],
      "source": []
    },
    {
      "cell_type": "markdown",
      "metadata": {
        "id": "gXB1OsX3ILbJ"
      },
      "source": [
        "# PLOTTING THE DISTRIBUTION"
      ]
    },
    {
      "cell_type": "code",
      "execution_count": null,
      "metadata": {
        "colab": {
          "base_uri": "https://localhost:8080/"
        },
        "id": "z_AM-XPYHYjd",
        "outputId": "11a20590-eeef-4fb3-df18-9290861b1dac"
      },
      "outputs": [
        {
          "name": "stdout",
          "output_type": "stream",
          "text": [
            "20319 20319\n"
          ]
        }
      ],
      "source": [
        "# lf = nn.BCELoss()\n",
        "\n",
        "# for x, y, z in BCTrainLoader:\n",
        "#   x = x.to(device)\n",
        "#   y = y.to(device)\n",
        "#   z = z.to(device)\n",
        "#   out = BC(x, y)\n",
        "#   print(lf(out, z))\n",
        "#   break\n",
        "scatter_values = []\n",
        "scatter_labels = []\n",
        "\n",
        "test_lf = mse_loss_new_withoutBatchAverage()\n",
        "test_sigmoid = nn.Sigmoid()\n",
        "test_linear = nn.Linear(1,1)\n",
        "test_linear = test_linear.to(device)\n",
        "for x, y, z in BCTrainLoader:\n",
        "  test_loss = test_lf(x,y)\n",
        "  # outs = test_linear(test_loss)\n",
        "  # outs = test_sigmoid(outs)\n",
        "  outs = test_sigmoid(test_loss)\n",
        "  # test_loss = test_loss.tolist()\n",
        "  outs = outs.tolist()\n",
        "  z = z.tolist()\n",
        "  # scatter_values = scatter_values + test_loss\n",
        "  scatter_values = scatter_values + outs\n",
        "  scatter_labels = scatter_labels + z\n",
        "  # print(len(test_loss), len(z))\n",
        "\n",
        "scatter_values = [value[0] for value in scatter_values]\n",
        "scatter_labels = [value[0] for value in scatter_labels]\n",
        "\n",
        "\n",
        "print(len(scatter_values), len(scatter_labels))"
      ]
    },
    {
      "cell_type": "code",
      "execution_count": null,
      "metadata": {
        "colab": {
          "base_uri": "https://localhost:8080/"
        },
        "id": "2-KUOsfeXVdC",
        "outputId": "6c38bdad-8fab-4a3f-a607-7e2513cd450d"
      },
      "outputs": [
        {
          "name": "stdout",
          "output_type": "stream",
          "text": [
            "<class 'float'>\n",
            "0.816306471824646\n"
          ]
        }
      ],
      "source": [
        "print(type(scatter_values[0]))\n",
        "print(scatter_values[20318])"
      ]
    },
    {
      "cell_type": "code",
      "execution_count": null,
      "metadata": {
        "colab": {
          "base_uri": "https://localhost:8080/",
          "height": 360
        },
        "id": "rGmccT8PQ3um",
        "outputId": "d37bd42d-f8a6-40f7-925d-177556b2ed81"
      },
      "outputs": [
        {
          "data": {
            "image/png": "[encoded data removed]",
            "text/plain": [
              "<Figure size 2000x400 with 1 Axes>"
            ]
          },
          "metadata": {},
          "output_type": "display_data"
        }
      ],
      "source": [
        "import matplotlib.pyplot as plt\n",
        "\n",
        "plt.figure(figsize=(20,4))\n",
        "\n",
        "# Define colors for labels\n",
        "colors = ['blue' if label == 0 else 'red' for label in scatter_labels]\n",
        "plt.scatter(x= scatter_values, y=[0]*len(scatter_values) , c=colors, marker='o')\n",
        "\n",
        "plt.xlabel('Loss Values')\n",
        "plt.yticks()  # Hide y-axis ticks and labels\n",
        "plt.title('Fake vs Real Distribution')\n",
        "# plt.colorbar(label='Labels')\n",
        "\n",
        "plt.show()\n"
      ]
    }
  ],
  "metadata": {
    "accelerator": "GPU",
    "colab": {
      "collapsed_sections": [
        "vLCzKlUkbaiw",
        "VOMIkzfmyNQ5",
        "sD7H-NB3bVle",
        "z_aPhDHRcGrf",
        "TJcE9LXIA7_M",
        "AqRB4l7iswlQ",
        "h5hQywM2IB9h"
      ],
      "gpuType": "T4",
      "provenance": []
    },
    "kernelspec": {
      "display_name": "Python 3",
      "name": "python3"
    },
    "language_info": {
      "name": "python"
    }
  },
  "nbformat": 4,
  "nbformat_minor": 0
}
